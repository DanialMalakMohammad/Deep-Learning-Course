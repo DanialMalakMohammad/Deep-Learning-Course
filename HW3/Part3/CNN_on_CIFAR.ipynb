{
 "cells": [
  {
   "cell_type": "markdown",
   "metadata": {
    "id": "cnrAA2eA9UGm",
    "colab_type": "text"
   },
   "source": [
    "# CE-40959: Deep Learning"
   ]
  },
  {
   "cell_type": "code",
   "execution_count": 0,
   "metadata": {
    "id": "TLRGyp0nJfYr",
    "colab_type": "code",
    "colab": {}
   },
   "outputs": [],
   "source": [
    "tf.reset_default_graph()\n"
   ]
  },
  {
   "cell_type": "markdown",
   "metadata": {
    "id": "z9qQ-qDd9UGn",
    "colab_type": "text"
   },
   "source": [
    "# HW3. Part 3. CNN on CIFAR (20 + 10 points)"
   ]
  },
  {
   "cell_type": "markdown",
   "metadata": {
    "id": "wUhxibDm9UGn",
    "colab_type": "text"
   },
   "source": [
    "### Deadline:   16 Farvardin"
   ]
  },
  {
   "cell_type": "markdown",
   "metadata": {
    "id": "QW6hckaU9UGo",
    "colab_type": "text"
   },
   "source": [
    "In this problem, we will train a CNN on CIFAR-10 database. Next, we will go through the network and visualize its layers to see what is happening there. Then, we use the trained model in a Transfer Learning approach to classifying the CIFAR-100 database."
   ]
  },
  {
   "cell_type": "markdown",
   "metadata": {
    "id": "Yzs7ThAz9UGp",
    "colab_type": "text"
   },
   "source": [
    "Let's start with loading data. First load the data by runing the code below:"
   ]
  },
  {
   "cell_type": "code",
   "execution_count": 0,
   "metadata": {
    "id": "XnJXzcE89UGp",
    "colab_type": "code",
    "colab": {}
   },
   "outputs": [],
   "source": [
    "from load_data import load_cifar10 #this function provided in the attached file loads the data of CIFAR10 database\n",
    "\n",
    "def load_cifar10_data():\n",
    "    dataset_dir = 'data/cifar-10-batches-py'\n",
    "    \n",
    "    X_train, y_train, X_test, y_test = load_cifar10(dataset_dir)\n",
    "    X_train, X_val = X_train[:45000], X_train[45000:]\n",
    "    y_train, y_val = y_train[:45000], y_train[45000:]\n",
    "    \n",
    "    return X_train, y_train, X_val, y_val, X_test, y_test"
   ]
  },
  {
   "cell_type": "code",
   "execution_count": 27,
   "metadata": {
    "id": "6feukf0j9UGs",
    "colab_type": "code",
    "outputId": "3611836e-a776-430f-8952-47500ded7bdb",
    "colab": {
     "base_uri": "https://localhost:8080/",
     "height": 371.0
    }
   },
   "outputs": [
    {
     "name": "stdout",
     "output_type": "stream",
     "text": [
      "X_train shape: (45000, 32, 32, 3)\n",
      "y_train shape: (45000, 1)\n",
      "X_val shape: (5000, 32, 32, 3)\n",
      "y_val shape: (5000, 1)\n",
      "X_test shape: (10000, 32, 32, 3)\n",
      "y_test shape: (10000, 1)\n"
     ]
    },
    {
     "data": {
      "image/png": "[encoded data removed]",
      "text/plain": [
       "<Figure size 432x288 with 1 Axes>"
      ]
     },
     "metadata": {
      "tags": []
     },
     "output_type": "display_data"
    }
   ],
   "source": [
    "# X_train, y_train, X_val, y_val, X_test, y_test = load_cifar10_data()\n",
    "\n",
    "import tensorflow as tf\n",
    "cifar10 = tf.keras.datasets.cifar10\n",
    "(X_train, y_train), (X_test, y_test) = cifar10.load_data()\n",
    "X_train, X_val = X_train[:45000], X_train[45000:]\n",
    "y_train, y_val = y_train[:45000], y_train[45000:]\n",
    "\n",
    "\n",
    "print('X_train shape:', X_train.shape)\n",
    "print('y_train shape:', y_train.shape)\n",
    "print('X_val shape:', X_val.shape)\n",
    "print('y_val shape:', y_val.shape)\n",
    "print('X_test shape:', X_test.shape)\n",
    "print('y_test shape:', y_test.shape)\n",
    "\n",
    "import matplotlib.pyplot as plt\n",
    "plt.imshow(X_train[1])#represnting a sample data from CIFAR-10\n",
    "plt.show()"
   ]
  },
  {
   "cell_type": "markdown",
   "metadata": {
    "id": "6LvR4Gw09UGu",
    "colab_type": "text"
   },
   "source": [
    "By successfully runing the above code, you have loaded the data and also you can see a sample data from CIFAR-10."
   ]
  },
  {
   "cell_type": "markdown",
   "metadata": {
    "id": "woiR-H8s9UGv",
    "colab_type": "text"
   },
   "source": [
    "The below code will convert the labels to one-hot codes which will be later used for the classification."
   ]
  },
  {
   "cell_type": "code",
   "execution_count": 28,
   "metadata": {
    "id": "KHU5q3Te9UGv",
    "colab_type": "code",
    "outputId": "23637e6f-7cf5-4537-c3c0-fe0c49370286",
    "colab": {
     "base_uri": "https://localhost:8080/",
     "height": 105.0
    }
   },
   "outputs": [
    {
     "name": "stderr",
     "output_type": "stream",
     "text": [
      "/usr/local/lib/python3.6/dist-packages/sklearn/preprocessing/_encoders.py:371: FutureWarning: The handling of integer data will change in version 0.22. Currently, the categories are determined based on the range [0, max(values)], while in the future they will be determined based on the unique values.\n",
      "If you want the future behaviour and silence this warning, you can specify \"categories='auto'\".\n",
      "In case you used a LabelEncoder before this OneHotEncoder to convert the categories to integers, then you can now use the OneHotEncoder directly.\n",
      "  warnings.warn(msg, FutureWarning)\n"
     ]
    }
   ],
   "source": [
    "import numpy as np\n",
    "\n",
    "from sklearn.preprocessing import OneHotEncoder # this function is used to prepare one-hot encoded labels\n",
    "encoder = OneHotEncoder(sparse=False)\n",
    "\n",
    "encoder.fit(y_train)#this line will fit 'encoder' to encode the labels\n",
    "\n",
    "y_train_onehot = encoder.transform(y_train)# encoding train labels (one-hot coding)\n",
    "y_val_onehot   = encoder.transform(y_val)  # encoding train labels (one-hot coding)\n",
    "y_test_onehot  = encoder.transform(y_test) # encoding test  labels (one-hot coding)"
   ]
  },
  {
   "cell_type": "markdown",
   "metadata": {
    "id": "rNNHae9u9UGx",
    "colab_type": "text"
   },
   "source": [
    "The function below is for converting data to several batches which we will use in training."
   ]
  },
  {
   "cell_type": "code",
   "execution_count": 0,
   "metadata": {
    "id": "irdhzG2G9UGy",
    "colab_type": "code",
    "colab": {}
   },
   "outputs": [],
   "source": [
    "def make_batches(x, y, batch_size):\n",
    "    n = len(y)\n",
    "    steps = n // batch_size\n",
    "    if n % batch_size != 0:\n",
    "        steps += 1\n",
    "    x_batches = np.array_split(x, steps)\n",
    "    y_batches = np.array_split(y, steps)\n",
    "    return x_batches, y_batches"
   ]
  },
  {
   "cell_type": "markdown",
   "metadata": {
    "id": "EG3zIwWV9UG0",
    "colab_type": "text"
   },
   "source": [
    "## Part1: Trainig a CNN (15 pts.)"
   ]
  },
  {
   "cell_type": "markdown",
   "metadata": {
    "id": "l5LsMhJF9UG1",
    "colab_type": "text"
   },
   "source": [
    "In this part, we are going to train a Convolutional Neural Network (CNN) with the below structure:"
   ]
  },
  {
   "cell_type": "markdown",
   "metadata": {
    "id": "rEg69k7E9UG1",
    "colab_type": "text"
   },
   "source": [
    "1. 16 * conv(5,5), activation function =ReLU\n",
    "2. 16 * conv(5,5), activation function =ReLU\n",
    "3. Max-pooling(3,3), stride=(2,2)\n",
    "4. 32 * conv(5,5), activation function =ReLU\n",
    "5. 32 * conv(5,5), activation function =ReLU\n",
    "6. Max-pooling(3,3), stride=(2,2)\n",
    "7. 64 * conv(5,5), activation function =ReLU\n",
    "8. FC(128), activation function =ReLU\n",
    "9. FC(128), activation function =ReLU\n",
    "10. FC(10), activation function =softmax"
   ]
  },
  {
   "cell_type": "markdown",
   "metadata": {
    "id": "5fRlExGS9UG2",
    "colab_type": "text"
   },
   "source": [
    "Let's go to implement the model in the below box. Note that using **tf.layers** is **NOT ALLOWED** in this homework."
   ]
  },
  {
   "cell_type": "code",
   "execution_count": 0,
   "metadata": {
    "id": "E-_L53DR9UG2",
    "colab_type": "code",
    "colab": {}
   },
   "outputs": [],
   "source": [
    "import tensorflow as tf\n",
    "\n",
    "x = tf.placeholder(tf.float32, [None, 32, 32, 3])  # placeholder for input data\n",
    "y = tf.placeholder(tf.float32, [None, 10])  # placeholder for labels (one-hot encoded)\n",
    "\n",
    "###################################################################\n",
    "#########  TODO: Your code for implementing the network ###########\n",
    "###################################################################\n",
    "\n",
    "# Define the needed Variables here:\n",
    "# e.g., W_conv1 has the shape of shape=[5, 5, 3, 16] and B_conv1 has the shape of shape=[16]\n",
    "\n",
    "W_conv1 = tf.Variable(tf.random.normal(shape=[5, 5, 3, 16], mean=0.0, stddev=0.01))\n",
    "W_conv2 = tf.Variable(tf.random.normal(shape=[5, 5, 16, 16], mean=0.0, stddev=0.01))\n",
    "W_conv3 = tf.Variable(tf.random.normal(shape=[5, 5, 16, 32], mean=0.0, stddev=0.01))\n",
    "W_conv4 = tf.Variable(tf.random.normal(shape=[5, 5, 32, 32], mean=0.0, stddev=0.01))\n",
    "W_conv5 = tf.Variable(tf.random.normal(shape=[5, 5, 32, 64], mean=0.0, stddev=0.01))\n",
    "W_fc1 = tf.Variable(tf.random.normal(shape=[8 * 8 * 64, 128], mean=0.0, stddev=0.01))\n",
    "W_fc2 = tf.Variable(tf.random.normal(shape=[128, 128], mean=0.0, stddev=0.01))\n",
    "W_fc3 = tf.Variable(tf.random.normal(shape=[128, 10], mean=0.0, stddev=0.01))\n",
    "\n",
    "B_conv1 = tf.Variable(tf.zeros(shape=[16]))\n",
    "B_conv2 = tf.Variable(tf.zeros(shape=[16]))\n",
    "B_conv3 = tf.Variable(tf.zeros(shape=[32]))\n",
    "B_conv4 = tf.Variable(tf.zeros(shape=[32]))\n",
    "B_conv5 = tf.Variable(tf.zeros(shape=[64]))\n",
    "B_fc1 = tf.Variable(tf.zeros(shape=[128]))\n",
    "B_fc2 = tf.Variable(tf.zeros(shape=[128]))\n",
    "B_fc3 = tf.Variable(tf.zeros(shape=[10]))\n",
    "\n",
    "# Define the layers here:\n",
    "conv1 = tf.nn.relu(tf.nn.conv2d(x, W_conv1, strides=[1, 1, 1, 1], padding='SAME') + B_conv1)\n",
    "\n",
    "conv2 = tf.nn.relu(tf.nn.conv2d(conv1, W_conv2, strides=[1, 1, 1, 1], padding='SAME') + B_conv2)\n",
    "\n",
    "pooling1 = tf.nn.max_pool(conv2, ksize=[1, 3, 3, 1], strides=[1, 2, 2, 1], padding='SAME')\n",
    "\n",
    "conv3 = tf.nn.relu(tf.nn.conv2d(pooling1, W_conv3, strides=[1, 1, 1, 1], padding='SAME') + B_conv3)\n",
    "\n",
    "conv4 = tf.nn.relu(tf.nn.conv2d(conv3, W_conv4, strides=[1, 1, 1, 1], padding='SAME') + B_conv4)\n",
    "\n",
    "pooling2 = tf.nn.max_pool(conv4, ksize=[1, 3, 3, 1], strides=[1, 2, 2, 1], padding='SAME')\n",
    "\n",
    "conv5 = tf.nn.relu(tf.nn.conv2d(pooling2, W_conv5, strides=[1, 1, 1, 1], padding='SAME') + B_conv5)\n",
    "\n",
    "dim = conv5.get_shape().as_list()\n",
    "conv5_flat = tf.reshape(conv5, [-1, dim[1] * dim[2] * dim[3]])\n",
    "\n",
    "fc1 = tf.nn.relu(tf.add(tf.matmul(conv5_flat, W_fc1), B_fc1))\n",
    "\n",
    "fc2 = tf.nn.relu(tf.add(tf.matmul(fc1, W_fc2), B_fc2))\n",
    "\n",
    "logits = tf.add(tf.matmul(fc2, W_fc3), B_fc3)\n",
    "y_hat = tf.nn.softmax(logits)\n",
    "# continue the same for other layers:\n",
    "\n",
    "\n",
    "# Don't forget that:\n",
    "# - you need to define variables with needed size and suitable initialization,\n",
    "# - you need to use tf.nn.conv2d to implement convolution,\n",
    "# - you need to use tf.nn.max_pool to implement max_pooling,\n",
    "\n",
    "# Help: your network output is something like: y_hat = tf.nn.softmax(logits) where logits are values of last layer\n",
    "#       before softmax activation function.\n",
    "#############################################################"
   ]
  },
  {
   "cell_type": "markdown",
   "metadata": {
    "id": "3QfU-AK89UG5",
    "colab_type": "text"
   },
   "source": [
    "Now you need to define an optimizer. You are free to use any optimizer. You can change optimizer or learning rate if you want :)"
   ]
  },
  {
   "cell_type": "code",
   "execution_count": 0,
   "metadata": {
    "id": "2p4bkSaK4IBU",
    "colab_type": "code",
    "colab": {}
   },
   "outputs": [],
   "source": [
    ""
   ]
  },
  {
   "cell_type": "code",
   "execution_count": 0,
   "metadata": {
    "id": "zLjQVkDU9UG6",
    "colab_type": "code",
    "colab": {}
   },
   "outputs": [],
   "source": [
    "############ Cross entropy loss ############################\n",
    "cross_entropy = tf.reduce_mean(tf.nn.softmax_cross_entropy_with_logits_v2(logits=logits, labels=y))\n",
    "# Note: logits in the above line is the last layer values (a 10-neuron layer) before the softmax activation function. \n",
    "#       In other words, you may have written y_hat = tf.nn.softmax(logits) in the above box in which y_hat is the output\n",
    "#       of the network.\n",
    "\n",
    "############ Adam optimizer ################################\n",
    "lr = 1e-4 # learning rate\n",
    "optimizer = tf.train.AdamOptimizer(learning_rate=lr)\n",
    "regularization = tf.nn.l2_loss(W_conv1) + tf.nn.l2_loss(W_conv2)+ tf.nn.l2_loss(W_fc1) + tf.nn.l2_loss(W_fc2)\n",
    "trainer = optimizer.minimize(cross_entropy + 0.001 * regularization)\n",
    "\n",
    "############################################################\n",
    "#            TODO: Implement Accuracy                      #\n",
    "############################################################\n",
    "correct_preds = tf.argmax(y, axis=1)\n",
    "accuracy = tf.reduce_mean(tf.cast(tf.equal(tf.argmax(y_hat, axis=1), correct_preds), tf.float32))\n",
    "# Note: The defined accuray does not play any role in the optimization process. However, it is a mtric which we can \n",
    "#       use as a log for mintoring training process with more metrics rather than a single loss function.\n",
    "############################################################"
   ]
  },
  {
   "cell_type": "markdown",
   "metadata": {
    "id": "ORWc5N-x9UG8",
    "colab_type": "text"
   },
   "source": [
    "You can go for the rest of the job, handle the Session and go for training. \n",
    "You can use tensorboard or the code provided in the next box to plot for loss and accuracy of training and validation data.\n",
    "You are expected to achieve at least 60% accuracy on the test data after the training process. Good Luck! ;)"
   ]
  },
  {
   "cell_type": "code",
   "execution_count": 44,
   "metadata": {
    "id": "7wJrYxNZ9UG9",
    "colab_type": "code",
    "outputId": "59ff48bd-37fe-486a-edf9-110ed171b0b8",
    "colab": {
     "base_uri": "https://localhost:8080/",
     "height": 5474.0
    }
   },
   "outputs": [
    {
     "name": "stdout",
     "output_type": "stream",
     "text": [
      "\n",
      "********** Epoch   0 **********\n",
      "Train:\t\tAccuracy= 0.1938 \tLoss= 2.1245\n",
      "Validation:\tAccuracy= 0.2598 \tLoss= 1.9860\n",
      "\n",
      "********** Epoch   1 **********\n",
      "Train:\t\tAccuracy= 0.2900 \tLoss= 1.9178\n",
      "Validation:\tAccuracy= 0.3008 \tLoss= 1.8717\n",
      "\n",
      "********** Epoch   2 **********\n",
      "Train:\t\tAccuracy= 0.3273 \tLoss= 1.8196\n",
      "Validation:\tAccuracy= 0.3510 \tLoss= 1.7492\n",
      "\n",
      "********** Epoch   3 **********\n",
      "Train:\t\tAccuracy= 0.3634 \tLoss= 1.7182\n",
      "Validation:\tAccuracy= 0.3784 \tLoss= 1.6723\n",
      "\n",
      "********** Epoch   4 **********\n",
      "Train:\t\tAccuracy= 0.3877 \tLoss= 1.6574\n",
      "Validation:\tAccuracy= 0.3934 \tLoss= 1.6399\n",
      "\n",
      "********** Epoch   5 **********\n",
      "Train:\t\tAccuracy= 0.4077 \tLoss= 1.6080\n",
      "Validation:\tAccuracy= 0.4196 \tLoss= 1.5869\n",
      "\n",
      "********** Epoch   6 **********\n",
      "Train:\t\tAccuracy= 0.4251 \tLoss= 1.5660\n",
      "Validation:\tAccuracy= 0.4326 \tLoss= 1.5436\n",
      "\n",
      "********** Epoch   7 **********\n",
      "Train:\t\tAccuracy= 0.4396 \tLoss= 1.5297\n",
      "Validation:\tAccuracy= 0.4464 \tLoss= 1.5090\n",
      "\n",
      "********** Epoch   8 **********\n",
      "Train:\t\tAccuracy= 0.4564 \tLoss= 1.4908\n",
      "Validation:\tAccuracy= 0.4540 \tLoss= 1.4783\n",
      "\n",
      "********** Epoch   9 **********\n",
      "Train:\t\tAccuracy= 0.4705 \tLoss= 1.4546\n",
      "Validation:\tAccuracy= 0.4704 \tLoss= 1.4439\n",
      "\n",
      "********** Epoch  10 **********\n",
      "Train:\t\tAccuracy= 0.4845 \tLoss= 1.4232\n",
      "Validation:\tAccuracy= 0.4804 \tLoss= 1.4150\n",
      "\n",
      "********** Epoch  11 **********\n",
      "Train:\t\tAccuracy= 0.4939 \tLoss= 1.3948\n",
      "Validation:\tAccuracy= 0.4894 \tLoss= 1.3943\n",
      "\n",
      "********** Epoch  12 **********\n",
      "Train:\t\tAccuracy= 0.5033 \tLoss= 1.3689\n",
      "Validation:\tAccuracy= 0.4938 \tLoss= 1.3763\n",
      "\n",
      "********** Epoch  13 **********\n",
      "Train:\t\tAccuracy= 0.5128 \tLoss= 1.3484\n",
      "Validation:\tAccuracy= 0.5062 \tLoss= 1.3528\n",
      "\n",
      "********** Epoch  14 **********\n",
      "Train:\t\tAccuracy= 0.5211 \tLoss= 1.3261\n",
      "Validation:\tAccuracy= 0.5170 \tLoss= 1.3342\n",
      "\n",
      "********** Epoch  15 **********\n",
      "Train:\t\tAccuracy= 0.5323 \tLoss= 1.3046\n",
      "Validation:\tAccuracy= 0.5244 \tLoss= 1.3222\n",
      "\n",
      "********** Epoch  16 **********\n",
      "Train:\t\tAccuracy= 0.5413 \tLoss= 1.2832\n",
      "Validation:\tAccuracy= 0.5330 \tLoss= 1.3059\n",
      "\n",
      "********** Epoch  17 **********\n",
      "Train:\t\tAccuracy= 0.5479 \tLoss= 1.2640\n",
      "Validation:\tAccuracy= 0.5362 \tLoss= 1.2943\n",
      "\n",
      "********** Epoch  18 **********\n",
      "Train:\t\tAccuracy= 0.5555 \tLoss= 1.2437\n",
      "Validation:\tAccuracy= 0.5456 \tLoss= 1.2704\n",
      "\n",
      "********** Epoch  19 **********\n",
      "Train:\t\tAccuracy= 0.5628 \tLoss= 1.2234\n",
      "Validation:\tAccuracy= 0.5526 \tLoss= 1.2511\n",
      "\n",
      "********** Epoch  20 **********\n",
      "Train:\t\tAccuracy= 0.5708 \tLoss= 1.2027\n",
      "Validation:\tAccuracy= 0.5618 \tLoss= 1.2275\n",
      "\n",
      "********** Epoch  21 **********\n",
      "Train:\t\tAccuracy= 0.5783 \tLoss= 1.1828\n",
      "Validation:\tAccuracy= 0.5710 \tLoss= 1.2072\n",
      "\n",
      "********** Epoch  22 **********\n",
      "Train:\t\tAccuracy= 0.5855 \tLoss= 1.1633\n",
      "Validation:\tAccuracy= 0.5770 \tLoss= 1.1883\n",
      "\n",
      "********** Epoch  23 **********\n",
      "Train:\t\tAccuracy= 0.5930 \tLoss= 1.1443\n",
      "Validation:\tAccuracy= 0.5834 \tLoss= 1.1810\n",
      "\n",
      "********** Epoch  24 **********\n",
      "Train:\t\tAccuracy= 0.5994 \tLoss= 1.1270\n",
      "Validation:\tAccuracy= 0.5884 \tLoss= 1.1660\n",
      "\n",
      "********** Epoch  25 **********\n",
      "Train:\t\tAccuracy= 0.6072 \tLoss= 1.1080\n",
      "Validation:\tAccuracy= 0.5910 \tLoss= 1.1425\n",
      "\n",
      "********** Epoch  26 **********\n",
      "Train:\t\tAccuracy= 0.6144 \tLoss= 1.0886\n",
      "Validation:\tAccuracy= 0.5960 \tLoss= 1.1232\n",
      "\n",
      "********** Epoch  27 **********\n",
      "Train:\t\tAccuracy= 0.6203 \tLoss= 1.0702\n",
      "Validation:\tAccuracy= 0.5992 \tLoss= 1.1127\n",
      "\n",
      "********** Epoch  28 **********\n",
      "Train:\t\tAccuracy= 0.6268 \tLoss= 1.0527\n",
      "Validation:\tAccuracy= 0.6074 \tLoss= 1.0952\n",
      "\n",
      "********** Epoch  29 **********\n",
      "Train:\t\tAccuracy= 0.6328 \tLoss= 1.0353\n",
      "Validation:\tAccuracy= 0.6082 \tLoss= 1.0894\n",
      "\n",
      "********** Epoch  30 **********\n",
      "Train:\t\tAccuracy= 0.6381 \tLoss= 1.0205\n",
      "Validation:\tAccuracy= 0.6104 \tLoss= 1.0832\n",
      "\n",
      "********** Epoch  31 **********\n",
      "Train:\t\tAccuracy= 0.6416 \tLoss= 1.0082\n",
      "Validation:\tAccuracy= 0.6164 \tLoss= 1.0649\n",
      "\n",
      "********** Epoch  32 **********\n",
      "Train:\t\tAccuracy= 0.6478 \tLoss= 0.9914\n",
      "Validation:\tAccuracy= 0.6280 \tLoss= 1.0406\n",
      "\n",
      "********** Epoch  33 **********\n",
      "Train:\t\tAccuracy= 0.6546 \tLoss= 0.9741\n",
      "Validation:\tAccuracy= 0.6324 \tLoss= 1.0285\n",
      "\n",
      "********** Epoch  34 **********\n",
      "Train:\t\tAccuracy= 0.6609 \tLoss= 0.9574\n",
      "Validation:\tAccuracy= 0.6364 \tLoss= 1.0144\n",
      "\n",
      "********** Epoch  35 **********\n",
      "Train:\t\tAccuracy= 0.6671 \tLoss= 0.9410\n",
      "Validation:\tAccuracy= 0.6434 \tLoss= 1.0019\n",
      "\n",
      "********** Epoch  36 **********\n",
      "Train:\t\tAccuracy= 0.6739 \tLoss= 0.9236\n",
      "Validation:\tAccuracy= 0.6504 \tLoss= 0.9916\n",
      "\n",
      "********** Epoch  37 **********\n",
      "Train:\t\tAccuracy= 0.6805 \tLoss= 0.9081\n",
      "Validation:\tAccuracy= 0.6580 \tLoss= 0.9813\n",
      "\n",
      "********** Epoch  38 **********\n",
      "Train:\t\tAccuracy= 0.6858 \tLoss= 0.8929\n",
      "Validation:\tAccuracy= 0.6612 \tLoss= 0.9726\n",
      "\n",
      "********** Epoch  39 **********\n",
      "Train:\t\tAccuracy= 0.6912 \tLoss= 0.8786\n",
      "Validation:\tAccuracy= 0.6634 \tLoss= 0.9638\n",
      "\n",
      "********** Epoch  40 **********\n",
      "Train:\t\tAccuracy= 0.6958 \tLoss= 0.8638\n",
      "Validation:\tAccuracy= 0.6666 \tLoss= 0.9554\n",
      "\n",
      "********** Epoch  41 **********\n",
      "Train:\t\tAccuracy= 0.7009 \tLoss= 0.8493\n",
      "Validation:\tAccuracy= 0.6698 \tLoss= 0.9467\n",
      "\n",
      "********** Epoch  42 **********\n",
      "Train:\t\tAccuracy= 0.7051 \tLoss= 0.8371\n",
      "Validation:\tAccuracy= 0.6744 \tLoss= 0.9415\n",
      "\n",
      "********** Epoch  43 **********\n",
      "Train:\t\tAccuracy= 0.7092 \tLoss= 0.8249\n",
      "Validation:\tAccuracy= 0.6750 \tLoss= 0.9427\n",
      "\n",
      "********** Epoch  44 **********\n",
      "Train:\t\tAccuracy= 0.7144 \tLoss= 0.8105\n",
      "Validation:\tAccuracy= 0.6808 \tLoss= 0.9344\n",
      "\n",
      "********** Epoch  45 **********\n",
      "Train:\t\tAccuracy= 0.7198 \tLoss= 0.7918\n",
      "Validation:\tAccuracy= 0.6802 \tLoss= 0.9258\n",
      "\n",
      "********** Epoch  46 **********\n",
      "Train:\t\tAccuracy= 0.7273 \tLoss= 0.7744\n",
      "Validation:\tAccuracy= 0.6836 \tLoss= 0.9206\n",
      "\n",
      "********** Epoch  47 **********\n",
      "Train:\t\tAccuracy= 0.7336 \tLoss= 0.7574\n",
      "Validation:\tAccuracy= 0.6882 \tLoss= 0.9149\n",
      "\n",
      "********** Epoch  48 **********\n",
      "Train:\t\tAccuracy= 0.7385 \tLoss= 0.7410\n",
      "Validation:\tAccuracy= 0.6928 \tLoss= 0.9096\n",
      "\n",
      "********** Epoch  49 **********\n",
      "Train:\t\tAccuracy= 0.7437 \tLoss= 0.7260\n",
      "Validation:\tAccuracy= 0.6936 \tLoss= 0.9055\n",
      "\n",
      "********** Epoch  50 **********\n",
      "Train:\t\tAccuracy= 0.7495 \tLoss= 0.7130\n",
      "Validation:\tAccuracy= 0.6940 \tLoss= 0.9059\n",
      "\n",
      "********** Epoch  51 **********\n",
      "Train:\t\tAccuracy= 0.7553 \tLoss= 0.6995\n",
      "Validation:\tAccuracy= 0.6962 \tLoss= 0.9071\n",
      "\n",
      "********** Epoch  52 **********\n",
      "Train:\t\tAccuracy= 0.7603 \tLoss= 0.6871\n",
      "Validation:\tAccuracy= 0.6936 \tLoss= 0.9109\n",
      "\n",
      "********** Epoch  53 **********\n",
      "Train:\t\tAccuracy= 0.7604 \tLoss= 0.6834\n",
      "Validation:\tAccuracy= 0.6908 \tLoss= 0.9160\n",
      "\n",
      "********** Epoch  54 **********\n",
      "Train:\t\tAccuracy= 0.7612 \tLoss= 0.6817\n",
      "Validation:\tAccuracy= 0.6892 \tLoss= 0.9389\n",
      "\n",
      "********** Epoch  55 **********\n",
      "Train:\t\tAccuracy= 0.7658 \tLoss= 0.6659\n",
      "Validation:\tAccuracy= 0.6960 \tLoss= 0.9250\n",
      "\n",
      "********** Epoch  56 **********\n",
      "Train:\t\tAccuracy= 0.7712 \tLoss= 0.6493\n",
      "Validation:\tAccuracy= 0.6980 \tLoss= 0.9188\n",
      "\n",
      "********** Epoch  57 **********\n",
      "Train:\t\tAccuracy= 0.7792 \tLoss= 0.6297\n",
      "Validation:\tAccuracy= 0.6980 \tLoss= 0.9298\n",
      "\n",
      "********** Epoch  58 **********\n",
      "Train:\t\tAccuracy= 0.7867 \tLoss= 0.6118\n",
      "Validation:\tAccuracy= 0.6992 \tLoss= 0.9405\n",
      "\n",
      "********** Epoch  59 **********\n",
      "Train:\t\tAccuracy= 0.7925 \tLoss= 0.5956\n",
      "Validation:\tAccuracy= 0.6980 \tLoss= 0.9491\n",
      "\n",
      "********** Epoch  60 **********\n",
      "Train:\t\tAccuracy= 0.7987 \tLoss= 0.5818\n",
      "Validation:\tAccuracy= 0.6974 \tLoss= 0.9545\n",
      "\n",
      "********** Epoch  61 **********\n",
      "Train:\t\tAccuracy= 0.8015 \tLoss= 0.5735\n",
      "Validation:\tAccuracy= 0.7008 \tLoss= 0.9519\n",
      "\n",
      "********** Epoch  62 **********\n",
      "Train:\t\tAccuracy= 0.8027 \tLoss= 0.5715\n",
      "Validation:\tAccuracy= 0.6998 \tLoss= 0.9462\n",
      "\n",
      "********** Epoch  63 **********\n",
      "Train:\t\tAccuracy= 0.8011 \tLoss= 0.5684\n",
      "Validation:\tAccuracy= 0.6984 \tLoss= 0.9714\n",
      "\n",
      "********** Epoch  64 **********\n",
      "Train:\t\tAccuracy= 0.8011 \tLoss= 0.5648\n",
      "Validation:\tAccuracy= 0.6944 \tLoss= 0.9953\n",
      "\n",
      "********** Epoch  65 **********\n",
      "Train:\t\tAccuracy= 0.8022 \tLoss= 0.5645\n",
      "Validation:\tAccuracy= 0.6860 \tLoss= 1.0001\n",
      "\n",
      "********** Epoch  66 **********\n",
      "Train:\t\tAccuracy= 0.8079 \tLoss= 0.5490\n",
      "Validation:\tAccuracy= 0.6918 \tLoss= 0.9818\n",
      "\n",
      "********** Epoch  67 **********\n",
      "Train:\t\tAccuracy= 0.8178 \tLoss= 0.5220\n",
      "Validation:\tAccuracy= 0.6914 \tLoss= 0.9947\n",
      "\n",
      "********** Epoch  68 **********\n",
      "Train:\t\tAccuracy= 0.8266 \tLoss= 0.4985\n",
      "Validation:\tAccuracy= 0.6910 \tLoss= 1.0116\n",
      "\n",
      "********** Epoch  69 **********\n",
      "Train:\t\tAccuracy= 0.8351 \tLoss= 0.4785\n",
      "Validation:\tAccuracy= 0.6904 \tLoss= 1.0343\n",
      "\n",
      "********** Epoch  70 **********\n",
      "Train:\t\tAccuracy= 0.8410 \tLoss= 0.4629\n",
      "Validation:\tAccuracy= 0.6908 \tLoss= 1.0543\n",
      "\n",
      "********** Epoch  71 **********\n",
      "Train:\t\tAccuracy= 0.8457 \tLoss= 0.4490\n",
      "Validation:\tAccuracy= 0.6896 \tLoss= 1.0825\n",
      "\n",
      "********** Epoch  72 **********\n",
      "Train:\t\tAccuracy= 0.8504 \tLoss= 0.4361\n",
      "Validation:\tAccuracy= 0.6866 \tLoss= 1.0966\n",
      "\n",
      "********** Epoch  73 **********\n",
      "Train:\t\tAccuracy= 0.8539 \tLoss= 0.4251\n",
      "Validation:\tAccuracy= 0.6868 \tLoss= 1.1212\n",
      "\n",
      "********** Epoch  74 **********\n",
      "Train:\t\tAccuracy= 0.8570 \tLoss= 0.4162\n",
      "Validation:\tAccuracy= 0.6842 \tLoss= 1.1361\n",
      "\n",
      "********** Epoch  75 **********\n",
      "Train:\t\tAccuracy= 0.8551 \tLoss= 0.4141\n",
      "Validation:\tAccuracy= 0.6972 \tLoss= 1.0923\n",
      "\n",
      "********** Epoch  76 **********\n",
      "Train:\t\tAccuracy= 0.8499 \tLoss= 0.4187\n",
      "Validation:\tAccuracy= 0.7006 \tLoss= 1.0485\n",
      "\n",
      "********** Epoch  77 **********\n",
      "Train:\t\tAccuracy= 0.8566 \tLoss= 0.4019\n",
      "Validation:\tAccuracy= 0.6982 \tLoss= 1.0823\n",
      "\n",
      "********** Epoch  78 **********\n",
      "Train:\t\tAccuracy= 0.8683 \tLoss= 0.3744\n",
      "Validation:\tAccuracy= 0.6980 \tLoss= 1.1208\n",
      "\n",
      "********** Epoch  79 **********\n",
      "Train:\t\tAccuracy= 0.8783 \tLoss= 0.3526\n",
      "Validation:\tAccuracy= 0.7000 \tLoss= 1.1383\n",
      "Test:\tAccuracy= 0.6828 \tLoss= 1.1746\n"
     ]
    }
   ],
   "source": [
    "########## Training ##########\n",
    "batch_size = 256 # You are free to change it\n",
    "x_train_batches, y_train_batches = make_batches(X_train, y_train_onehot, batch_size)\n",
    "epochs = 80  # You are free to change it\n",
    "N_Batches = len(x_train_batches)\n",
    "\n",
    "train_acc  = np.zeros(epochs)\n",
    "train_loss = np.zeros(epochs)\n",
    "val_acc  = np.zeros(epochs)\n",
    "val_loss = np.zeros(epochs)\n",
    "\n",
    "sess = tf.Session()\n",
    "sess.run(tf.global_variables_initializer())\n",
    "\n",
    "for epoch in range(epochs):\n",
    "    print()\n",
    "    print(\"*\" * 10, \"Epoch %3i\"%epoch, \"*\" * 10)\n",
    "\n",
    "    batch_acc = np.zeros(N_Batches)\n",
    "    batch_loss = np.zeros(N_Batches)\n",
    "    for n in range(N_Batches):\n",
    "        _, batch_acc[n], batch_loss[n] = sess.run([trainer, accuracy, cross_entropy],\n",
    "                                                  {x: x_train_batches[n], y: y_train_batches[n]})\n",
    "            #print(\"Batch %3d/%d: Acc:%0.4f , Loss:%0.4f\"%(n, N_Batches, batch_acc[n], batch_loss[n]))\n",
    "\n",
    "    train_acc[epoch] = np.mean(batch_acc)\n",
    "    train_loss[epoch] = np.mean(batch_loss)\n",
    "    print(\"Train:\\t\\tAccuracy= %0.4f \\tLoss= %0.4f\"%(train_acc[epoch], train_loss[epoch]))\n",
    "\n",
    "    ########## Validation ##########\n",
    "    val_acc[epoch], val_loss[epoch] = sess.run([accuracy, cross_entropy],\n",
    "                                               {x: X_val, y: y_val_onehot})\n",
    "    print(\"Validation:\\tAccuracy= %0.4f \\tLoss= %0.4f\"%(val_acc[epoch], val_loss[epoch]))\n",
    "    \n",
    "    \n",
    "    \n",
    "############################################################\n",
    "#            TODO: Implement Test Phase                    #\n",
    "############################################################\n",
    "test_acc, test_loss = sess.run([accuracy, cross_entropy],{x: X_test, y: y_test_onehot})\n",
    "print(\"Test:\\tAccuracy= %0.4f \\tLoss= %0.4f\"%(test_acc, test_loss))\n",
    "############################################################"
   ]
  },
  {
   "cell_type": "markdown",
   "metadata": {
    "id": "dewiTh3Q9UHA",
    "colab_type": "text"
   },
   "source": [
    "### Training Diagram"
   ]
  },
  {
   "cell_type": "code",
   "execution_count": 45,
   "metadata": {
    "id": "GmUpwnJ79UHB",
    "colab_type": "code",
    "outputId": "aec491d2-fe6c-42f2-ed30-053a8efe2fa6",
    "colab": {
     "base_uri": "https://localhost:8080/",
     "height": 573.0
    }
   },
   "outputs": [
    {
     "data": {
      "image/png": "[encoded data removed]",
      "text/plain": [
       "<Figure size 432x288 with 1 Axes>"
      ]
     },
     "metadata": {
      "tags": []
     },
     "output_type": "display_data"
    },
    {
     "data": {
      "image/png": "[encoded data removed]",
      "text/plain": [
       "<Figure size 432x288 with 1 Axes>"
      ]
     },
     "metadata": {
      "tags": []
     },
     "output_type": "display_data"
    }
   ],
   "source": [
    "########## Plot metrics #########################\n",
    "fig = plt.figure()\n",
    "plt.plot(range(epochs), train_acc, label='Train')\n",
    "plt.plot(range(epochs), val_acc, label='Validation')\n",
    "plt.title(\"Training and Validation Accuracy\")\n",
    "plt.xlabel(\"epoch\")\n",
    "plt.ylabel(\"Accuracy\")\n",
    "plt.grid(True)\n",
    "plt.legend(loc=0)\n",
    "plt.show()\n",
    "\n",
    "fig = plt.figure()\n",
    "plt.plot(range(epochs), train_loss, label='Train')\n",
    "plt.plot(range(epochs), val_loss, label='Validation')\n",
    "plt.title(\"Training and Validation Loss\")\n",
    "plt.xlabel(\"epoch\")\n",
    "plt.ylabel(\"Cross entropy\")\n",
    "plt.grid(True)\n",
    "plt.legend(loc=0)\n",
    "plt.show()"
   ]
  },
  {
   "cell_type": "markdown",
   "metadata": {
    "id": "sbof02CW9UHD",
    "colab_type": "text"
   },
   "source": [
    "## Part2: Visualizing the Network (5 pts.)"
   ]
  },
  {
   "cell_type": "markdown",
   "metadata": {
    "id": "wmuMfAFZ9UHE",
    "colab_type": "text"
   },
   "source": [
    "Now, we want to check the weights to see how the network realy works and what it does. Consider the wieghts of the first convolutional layer, find its weights values and print the values of 2 arbitrary filters:"
   ]
  },
  {
   "cell_type": "code",
   "execution_count": 46,
   "metadata": {
    "id": "L9OhoTtm9UHF",
    "colab_type": "code",
    "outputId": "f5ac95bf-ee22-4428-a364-22d8e1f28789",
    "colab": {
     "base_uri": "https://localhost:8080/",
     "height": 1037.0
    }
   },
   "outputs": [
    {
     "name": "stdout",
     "output_type": "stream",
     "text": [
      "First filter:\n",
      "[[[-0.00492467  0.00165287  0.00958943]\n",
      "  [-0.00918777  0.01602911  0.00640646]\n",
      "  [-0.02033383 -0.00612235  0.01296476]\n",
      "  [-0.01250503 -0.00017025 -0.00091144]\n",
      "  [-0.01704465  0.01535362 -0.01381699]]\n",
      "\n",
      " [[ 0.00228801 -0.00670834 -0.00626503]\n",
      "  [ 0.00980698 -0.01630881  0.02308135]\n",
      "  [-0.02276753  0.02169257  0.02032929]\n",
      "  [-0.01306299  0.00359748  0.01663199]\n",
      "  [-0.01109555  0.00497412  0.0226675 ]]\n",
      "\n",
      " [[-0.00342617  0.0005437  -0.0038055 ]\n",
      "  [-0.02086908  0.00604046  0.01929389]\n",
      "  [-0.02067058 -0.00108785  0.03316981]\n",
      "  [-0.0066915  -0.01197421  0.01900033]\n",
      "  [-0.00561421  0.00896838  0.01758488]]\n",
      "\n",
      " [[-0.00994097 -0.01684322 -0.00085981]\n",
      "  [-0.02219687 -0.01404432  0.00224261]\n",
      "  [-0.00389214 -0.00326589  0.02504071]\n",
      "  [-0.02767155  0.00450932  0.00718618]\n",
      "  [-0.00593668  0.00284368  0.01150895]]\n",
      "\n",
      " [[-0.00818322 -0.02110337 -0.00506623]\n",
      "  [-0.00545625  0.01778267  0.02224952]\n",
      "  [-0.01583262  0.00309797  0.03675726]\n",
      "  [ 0.00745745  0.00050104  0.01261041]\n",
      "  [-0.0016306   0.01188583  0.01742563]]]\n",
      "Second filter:\n",
      "[[[ 0.00545153 -0.0249112  -0.03410258]\n",
      "  [-0.01832712 -0.01070622 -0.01128864]\n",
      "  [-0.00343059  0.02255157  0.023069  ]\n",
      "  [ 0.01676708  0.04603129  0.04341618]\n",
      "  [ 0.00092908  0.02431176  0.02423001]]\n",
      "\n",
      " [[-0.01735798 -0.0205974  -0.03301751]\n",
      "  [-0.02352509 -0.01683735 -0.0099449 ]\n",
      "  [ 0.01796273  0.05150596  0.03545703]\n",
      "  [ 0.04165175  0.06709203  0.05776256]\n",
      "  [ 0.00906236  0.03203655  0.00600394]]\n",
      "\n",
      " [[-0.02502268 -0.02668291 -0.0359491 ]\n",
      "  [-0.0421662  -0.02442486 -0.0175756 ]\n",
      "  [ 0.00590409  0.01008891  0.00561502]\n",
      "  [ 0.0293661   0.02071434  0.03230927]\n",
      "  [-0.00163481 -0.00710125  0.02882945]]\n",
      "\n",
      " [[-0.01290577 -0.01892924 -0.01390335]\n",
      "  [-0.01436692 -0.02889908 -0.01808089]\n",
      "  [ 0.00318103 -0.01321343  0.00610253]\n",
      "  [ 0.01000791 -0.00292545  0.00514845]\n",
      "  [-0.00475012 -0.01778071  0.00950107]]\n",
      "\n",
      " [[ 0.02053884  0.00121341 -0.01478551]\n",
      "  [ 0.01745009  0.00345624 -0.01356896]\n",
      "  [ 0.00607494 -0.01071325 -0.00851547]\n",
      "  [ 0.01027908  0.00020637  0.00830481]\n",
      "  [-0.0015092   0.00681487  0.00073857]]]\n"
     ]
    }
   ],
   "source": [
    "##########################################################################\n",
    "# TODO                                                                   #\n",
    "# Note: To retrieve the values of the weight-variables from TensorFlow,  #\n",
    "#       feed-dict is not necessary because                               #\n",
    "#       nothing is calculated.                                           #\n",
    "#       e.g., w = sess.run(weights)                                      #\n",
    "##########################################################################\n",
    "w = sess.run(W_conv1)\n",
    "print(\"First filter:\")\n",
    "print(w[:,:,:,0])\n",
    "\n",
    "print(\"Second filter:\")\n",
    "print(w[:,:,:,1])\n",
    "\n",
    "##########################################################################"
   ]
  },
  {
   "cell_type": "markdown",
   "metadata": {
    "id": "7YRCrsWy9UHH",
    "colab_type": "text"
   },
   "source": [
    "### Question: Try to interpret what they are doing?"
   ]
  },
  {
   "cell_type": "markdown",
   "metadata": {
    "id": "j5c_KLiT9UHI",
    "colab_type": "text"
   },
   "source": [
    "### Answer: "
   ]
  },
  {
   "cell_type": "markdown",
   "metadata": {
    "id": "gYc1TdQ99UHI",
    "colab_type": "text"
   },
   "source": [
    "احتمالا به دنبال پیدا کردن تعدادی ویژگی سطح پایین مثل لبه ها یا الگو های نمادین و اولیه است.اعداد همگی در رنجی هم ارز هستند  و تعداد زیادی عدد نزدیک به صفر را مشاهده نمیکنیم،بنابراین روی پیکسل خاصی تمرکز نشده است. اما شاید بتوان از روی مثبت منفی بودن اعداد شکل لبه ای هر فیلتر را شهودا حدس زد."
   ]
  },
  {
   "cell_type": "markdown",
   "metadata": {
    "id": "qhV2-quQ9UHJ",
    "colab_type": "text"
   },
   "source": [
    "Now let's visualize the filters of the first conv layer. There are lots of ways to code for visualization. You are free to choose any way you want. However below is function which is provided for you to plot the weights."
   ]
  },
  {
   "cell_type": "code",
   "execution_count": 47,
   "metadata": {
    "id": "uNQFRcP_9UHJ",
    "colab_type": "code",
    "outputId": "3ee983be-72e5-4ce1-dfaf-ac50715d56ec",
    "colab": {
     "base_uri": "https://localhost:8080/",
     "height": 255.0
    }
   },
   "outputs": [
    {
     "data": {
      "image/png": "[encoded data removed]",
      "text/plain": [
       "<Figure size 432x288 with 16 Axes>"
      ]
     },
     "metadata": {
      "tags": []
     },
     "output_type": "display_data"
    }
   ],
   "source": [
    "import math\n",
    "def plot_conv_weights(w, input_channel=0):\n",
    "    # The argument w is a 4-dim array.(e.g. weights_conv1 with the shape of [5,5,3,64])\n",
    "    # The argument input_channel shows the specified channel of all filters.\n",
    "    \n",
    "    # Get the lowest and highest values for the weights.\n",
    "    # This is used to correct the colour intensity across\n",
    "    # the images so they can be compared with each other.\n",
    "    w_min = np.min(w)\n",
    "    w_max = np.max(w)\n",
    "    abs_max = max(abs(w_min), abs(w_max))\n",
    "\n",
    "    # Number of filters used in the conv. layer.\n",
    "    num_filters = w.shape[3]\n",
    "\n",
    "    # Number of grids to plot.\n",
    "    # Rounded-up, square-root of the number of filters.\n",
    "    num_grids = math.ceil(math.sqrt(num_filters))\n",
    "    \n",
    "    # Create figure with a grid of sub-plots.\n",
    "    fig, axes = plt.subplots(num_grids, num_grids)\n",
    "\n",
    "    # Plot all the filter-weights.\n",
    "    for i, ax in enumerate(axes.flat):\n",
    "        # Only plot the valid filter-weights.\n",
    "        if i<num_filters:\n",
    "            # Get the weights for the i'th filter of the input channel.\n",
    "            # The format of this 4-dim tensor is determined by the\n",
    "            # TensorFlow API. See Tutorial #02 for more details.\n",
    "            img = w[:, :, input_channel, i]\n",
    "\n",
    "            # Plot image.\n",
    "            ax.imshow(img, vmin=-abs_max, vmax=abs_max,\n",
    "                      interpolation='nearest', cmap='seismic')\n",
    "        \n",
    "        # Remove ticks from the plot.\n",
    "        ax.set_xticks([])\n",
    "        ax.set_yticks([])\n",
    "    \n",
    "    # Ensure the plot is shown correctly with multiple plots\n",
    "    # in a single Notebook cell.\n",
    "    plt.show()\n",
    "\n",
    "    \n",
    "##########################################################################\n",
    "# TODO: call the function above or use your own way here                 #\n",
    "##########################################################################\n",
    "plot_conv_weights(w)\n",
    "\n",
    "##########################################################################\n"
   ]
  },
  {
   "cell_type": "markdown",
   "metadata": {
    "id": "mXHM-t6K9UHL",
    "colab_type": "text"
   },
   "source": [
    "### Question: Try to interpret what they are doing?"
   ]
  },
  {
   "cell_type": "markdown",
   "metadata": {
    "id": "HEFk6_Zz9UHM",
    "colab_type": "text"
   },
   "source": [
    "### Answer: "
   ]
  },
  {
   "cell_type": "markdown",
   "metadata": {
    "id": "d-XBfaLM9UHM",
    "colab_type": "text"
   },
   "source": [
    "به دنبال انواع لبه های مختلف بین دو قسمت آبی و قرمز است. به نوعی پیدا کردن مرزهای بین قسمت های آبی و قرمز. ظاهرا این مرزها در تفکیک قسمت های حیاتی و کاراکترستیک اکثر شکل ها موثر بوده. \n"
   ]
  },
  {
   "cell_type": "markdown",
   "metadata": {
    "id": "_o7J3rEd9UHN",
    "colab_type": "text"
   },
   "source": [
    "## Part3: Transfer Learning (+10 pts. - optional)"
   ]
  },
  {
   "cell_type": "markdown",
   "metadata": {
    "id": "dNnU9wdD9UHP",
    "colab_type": "text"
   },
   "source": [
    "In all the machine learning problems we need data to train our models. However, the volume of the data might not be sufficient for the considered model. In such cases, we may use a model which is trained on a similar dataset probably for a different objective. Then we transfer to the main problem and fine- tune or replace some parts of the network. "
   ]
  },
  {
   "cell_type": "markdown",
   "metadata": {
    "id": "NWA8XTXv9UHQ",
    "colab_type": "text"
   },
   "source": [
    "In this exercise, we are going to implement the transfer learning concept on CNN. For this purpose, we use the network that you have trained on Part 1 of this homework (above) to classify three new classes (i.e. bee, elephant, and fox) on CIFAR-100 dataset. Let's first load the data:"
   ]
  },
  {
   "cell_type": "code",
   "execution_count": 0,
   "metadata": {
    "id": "cO8mG3l29UHR",
    "colab_type": "code",
    "colab": {}
   },
   "outputs": [],
   "source": [
    "from load_data import load_cifar100 #this function provided in the attached file loads the data of CIFAR100 database\n",
    "\n",
    "def load_cifar100_data():\n",
    "    dataset_dir = 'data/cifar-100-python'\n",
    "    \n",
    "    X_train, y_train, X_test, y_test = load_cifar100(dataset_dir)\n",
    "    \n",
    "    return X_train, y_train, X_test, y_test"
   ]
  },
  {
   "cell_type": "code",
   "execution_count": 48,
   "metadata": {
    "id": "YmusWfAV9UHW",
    "colab_type": "code",
    "outputId": "7dbadad6-c833-49d7-d14f-4ab69b63e8a8",
    "colab": {
     "base_uri": "https://localhost:8080/",
     "height": 337.0
    }
   },
   "outputs": [
    {
     "name": "stdout",
     "output_type": "stream",
     "text": [
      "X_train shape: (50000, 32, 32, 3)\n",
      "y_train shape: (50000, 1)\n",
      "X_test shape: (10000, 32, 32, 3)\n",
      "y_test shape: (10000, 1)\n"
     ]
    },
    {
     "data": {
      "image/png": "[encoded data removed]",
      "text/plain": [
       "<Figure size 432x288 with 1 Axes>"
      ]
     },
     "metadata": {
      "tags": []
     },
     "output_type": "display_data"
    }
   ],
   "source": [
    "# X_train, y_train, X_test, y_test = load_cifar100_data()\n",
    "cifar100 = tf.keras.datasets.cifar100\n",
    "(X_train, y_train), (X_test, y_test) = cifar100.load_data()\n",
    "\n",
    "print('X_train shape:', X_train.shape)\n",
    "print('y_train shape:', y_train.shape)\n",
    "print('X_test shape:', X_test.shape)\n",
    "print('y_test shape:', y_test.shape)\n",
    "\n",
    "import matplotlib.pyplot as plt\n",
    "plt.imshow(X_train[1])#represnting a sample data from CIFAR-100\n",
    "plt.show()"
   ]
  },
  {
   "cell_type": "markdown",
   "metadata": {
    "id": "Wngzryxw9UHg",
    "colab_type": "text"
   },
   "source": [
    "By successfully runing the above code, you have loaded the data and also you can see a sample data from CIFAR-100. The below code will seprate the specified classes (i.e. bee(6), elephant(31), and fox(34)) for the new classification problem."
   ]
  },
  {
   "cell_type": "code",
   "execution_count": 0,
   "metadata": {
    "id": "BGjlDC089UHg",
    "colab_type": "code",
    "colab": {}
   },
   "outputs": [],
   "source": [
    "selected_images_train = np.zeros([1,32,32,3])\n",
    "selected_labels_train = np.zeros([1,1])\n",
    "for i in range(50000):\n",
    "    label = y_train[i]\n",
    "    if label==6 or label==31 or label==34:\n",
    "        selected_images_train = np.append(selected_images_train,np.reshape(X_train[i,:,:,:],[1,32,32,3]),axis=0)\n",
    "        selected_labels_train = np.append(selected_labels_train,np.reshape(label,[1,1]),axis=0)\n",
    "selected_images_train = selected_images_train[1:]# to remove the first defined np..zeros data\n",
    "selected_labels_train = selected_labels_train[1:]# to remove the first defined np..zeros data\n",
    "\n",
    "\n",
    "selected_images_test = np.zeros([1,32,32,3])\n",
    "selected_labels_test = np.zeros([1,1])\n",
    "for i in range(10000):\n",
    "    label = y_test[i]\n",
    "    if label==6 or label==31 or label==34:\n",
    "        selected_images_test = np.append(selected_images_test,np.reshape(X_test[i,:,:,:],[1,32,32,3]),axis=0)\n",
    "        selected_labels_test = np.append(selected_labels_test,np.reshape(label,[1,1]),axis=0)\n",
    "selected_images_test = selected_images_test[1:]# to remove the first defined np..zeros data\n",
    "selected_labels_test = selected_labels_test[1:]# to remove the first defined np..zeros data"
   ]
  },
  {
   "cell_type": "code",
   "execution_count": 50,
   "metadata": {
    "id": "n1JfC5rd9UHj",
    "colab_type": "code",
    "outputId": "b5f9bfe8-1c44-4161-e759-27359fdc593b",
    "colab": {
     "base_uri": "https://localhost:8080/",
     "height": 119.0
    }
   },
   "outputs": [
    {
     "name": "stdout",
     "output_type": "stream",
     "text": [
      "images_train shape: (1200, 32, 32, 3)\n",
      "labels_train shape: (1200, 1)\n",
      "images_validation shape: (300, 32, 32, 3)\n",
      "labels_validation shape: (300, 1)\n",
      "images_test shape: (300, 32, 32, 3)\n",
      "labels_test shape: (300, 1)\n"
     ]
    }
   ],
   "source": [
    "images_train = selected_images_train[:int(selected_images_train.shape[0]*0.8),:,:,:]\n",
    "labels_train = selected_labels_train[:int(selected_images_train.shape[0]*0.8),:]\n",
    "\n",
    "images_validation = selected_images_train[int(selected_images_train.shape[0]*0.8):,:,:,:]\n",
    "labels_validation = selected_labels_train[int(selected_images_train.shape[0]*0.8):,:]\n",
    "\n",
    "images_test = selected_images_test\n",
    "labels_test = selected_labels_test\n",
    "\n",
    "\n",
    "print('images_train shape:', images_train.shape)\n",
    "print('labels_train shape:', labels_train.shape)\n",
    "\n",
    "print('images_validation shape:', images_validation.shape)\n",
    "print('labels_validation shape:', labels_validation.shape)\n",
    "\n",
    "print('images_test shape:', images_test.shape)\n",
    "print('labels_test shape:', labels_test.shape)"
   ]
  },
  {
   "cell_type": "code",
   "execution_count": 51,
   "metadata": {
    "id": "Ga2tcCT39UHk",
    "colab_type": "code",
    "outputId": "e088bb38-f658-4052-c17d-5b30a2fc611e",
    "colab": {
     "base_uri": "https://localhost:8080/",
     "height": 105.0
    }
   },
   "outputs": [
    {
     "name": "stderr",
     "output_type": "stream",
     "text": [
      "/usr/local/lib/python3.6/dist-packages/sklearn/preprocessing/_encoders.py:371: FutureWarning: The handling of integer data will change in version 0.22. Currently, the categories are determined based on the range [0, max(values)], while in the future they will be determined based on the unique values.\n",
      "If you want the future behaviour and silence this warning, you can specify \"categories='auto'\".\n",
      "In case you used a LabelEncoder before this OneHotEncoder to convert the categories to integers, then you can now use the OneHotEncoder directly.\n",
      "  warnings.warn(msg, FutureWarning)\n"
     ]
    }
   ],
   "source": [
    "import numpy as np\n",
    "\n",
    "from sklearn.preprocessing import OneHotEncoder # this function is used to prepare one-hot encoded labels\n",
    "encoder = OneHotEncoder(sparse=False)\n",
    "\n",
    "encoder.fit(selected_labels_train)#this line will fit 'encoder' to encode the labels\n",
    "\n",
    "labels_train_onehot = encoder.transform(labels_train)# encoding train labels (one-hot coding)\n",
    "labels_val_onehot   = encoder.transform(labels_validation)  # encoding train labels (one-hot coding)\n",
    "labels_test_onehot  = encoder.transform(labels_test) # encoding test  labels (one-hot coding)"
   ]
  },
  {
   "cell_type": "markdown",
   "metadata": {
    "id": "9f_a8qGg9UHp",
    "colab_type": "text"
   },
   "source": [
    "To implement the transfer learning, we need to use the previous model and transfer it to the new problem. For this end, you need to freeze the convolution layers and also the first fully connected layer which means that they should not be updated in the new training process. For the last two fully connected layers, we want to fine-tune the values. However, you should replace the last layer (output layer) with a 3-neuron layer to represent the score for each class."
   ]
  },
  {
   "cell_type": "markdown",
   "metadata": {
    "id": "Icyw2Hqo9UHr",
    "colab_type": "text"
   },
   "source": [
    "There are several methods that you can implement the discussed process with TensorFlow. You are free to do any way you want.\n",
    "The below code redefine the network and use the weights of the network trained on CIFAR-10. Then, the frozen weights can be defined as either constant or non-trainable variables. Besides, the fine-tuning weights are also defined as variables with their previous weights in the definition. Anyway, since there are other ways to implement this job, you can do it with your own method."
   ]
  },
  {
   "cell_type": "code",
   "execution_count": 0,
   "metadata": {
    "id": "sB13yK6Q9UHs",
    "colab_type": "code",
    "colab": {}
   },
   "outputs": [],
   "source": [
    "############################################################\n",
    "#            TODO: Implement Accuracy Part                 #\n",
    "############################################################\n",
    "\n",
    "# get the weights form previous network:\n",
    "# e.g., w_conv1_CIFAR10 = sess.run(W_conv1)\n",
    "\n",
    "W_conv1_CIFAR10 = sess.run(W_conv1)\n",
    "W_conv2_CIFAR10 = sess.run(W_conv2)\n",
    "W_conv3_CIFAR10 = sess.run(W_conv3)\n",
    "W_conv4_CIFAR10 = sess.run(W_conv4)\n",
    "W_conv5_CIFAR10 = sess.run(W_conv5)\n",
    "W_fc1_CIFAR10 = sess.run(W_fc1)\n",
    "\n",
    "B_conv1_CIFAR10 = sess.run(B_conv1)\n",
    "B_conv2_CIFAR10 = sess.run(B_conv2)\n",
    "B_conv3_CIFAR10 = sess.run(B_conv3)\n",
    "B_conv4_CIFAR10 = sess.run(B_conv4)\n",
    "B_conv5_CIFAR10 = sess.run(B_conv5)\n",
    "B_fc1_CIFAR10 = sess.run(B_fc1)\n",
    "\n",
    "sess.close()\n",
    "tf.reset_default_graph()\n",
    "\n",
    "x = tf.placeholder(tf.float32, [None, 32, 32, 3]) # placeholder for input data\n",
    "y_new = tf.placeholder(tf.float32, [None, 3])# placeholder for labels (one-hot encoded)\n",
    "\n",
    "# Re-define the convolutional layers\n",
    "\n",
    "conv1 = tf.nn.relu(tf.nn.conv2d(x, W_conv1_CIFAR10, strides=[1, 1, 1, 1], padding='SAME') + B_conv1_CIFAR10)\n",
    "\n",
    "conv2 = tf.nn.relu(tf.nn.conv2d(conv1, W_conv2_CIFAR10, strides=[1, 1, 1, 1], padding='SAME') + B_conv2_CIFAR10)\n",
    "\n",
    "pooling1 = tf.nn.max_pool(conv2, ksize=[1, 3, 3, 1], strides=[1, 2, 2, 1], padding='SAME')\n",
    "\n",
    "conv3 = tf.nn.relu(tf.nn.conv2d(pooling1, W_conv3_CIFAR10, strides=[1, 1, 1, 1], padding='SAME') + B_conv3_CIFAR10)\n",
    "\n",
    "conv4 = tf.nn.relu(tf.nn.conv2d(conv3, W_conv4_CIFAR10, strides=[1, 1, 1, 1], padding='SAME') + B_conv4_CIFAR10)\n",
    "\n",
    "pooling2 = tf.nn.max_pool(conv4, ksize=[1, 3, 3, 1], strides=[1, 2, 2, 1], padding='SAME')\n",
    "\n",
    "conv5 = tf.nn.relu(tf.nn.conv2d(pooling2, W_conv5_CIFAR10, strides=[1, 1, 1, 1], padding='SAME') + B_conv5_CIFAR10)\n",
    "\n",
    "dim = conv5.get_shape().as_list()\n",
    "conv5_flat = tf.reshape(conv5, [-1, dim[1] * dim[2] * dim[3]])\n",
    "\n",
    "fc1 = tf.nn.relu(tf.add(tf.matmul(conv5_flat, W_fc1_CIFAR10), B_fc1_CIFAR10))\n",
    "\n",
    "\n",
    "# Define weights for the second FC layer (fc1 is already defined in the previous model)\n",
    "W_fc2_new = tf.Variable(tf.random.normal(shape=[128, 128], mean=0.0, stddev=0.01))\n",
    "B_fc2_new = tf.Variable(tf.zeros(shape=[128]))\n",
    "# Define based on the first fully connected layer.\n",
    "fc2_new = tf.nn.relu(tf.add(tf.matmul(fc1, W_fc2_new), B_fc2_new))\n",
    "\n",
    "W_fc3_new = tf.Variable(tf.random.normal(shape=[128, 3], mean=0.0, stddev=0.01))\n",
    "B_fc3_new = tf.Variable(tf.zeros(shape=[3]))\n",
    "# Define based on the second fully connected layer (fc2_new).\n",
    "logit = tf.matmul(fc2_new, W_fc3_new) + B_fc3_new\n",
    "\n",
    "y_hat = tf.nn.softmax(logit)\n",
    "\n",
    "#############################################################\n",
    "\n",
    "########## Cross entropy loss ##########\n",
    "new_cross_entropy = tf.reduce_mean(tf.nn.softmax_cross_entropy_with_logits_v2(logits=logit, labels=y_new))\n",
    "\n",
    "############################################################\n",
    "#            TODO: Implement the optimizer so that only    #\n",
    "#                  variales defined above are updated.     #\n",
    "############################################################\n",
    "lr = 1e-4\n",
    "new_optimizer = tf.train.AdamOptimizer(learning_rate=lr)\n",
    "new_trainer = new_optimizer.minimize(new_cross_entropy, var_list=[W_fc2_new, B_fc2_new, W_fc3_new, B_fc3_new])\n",
    "############################################################\n",
    "\n",
    "############################################################\n",
    "#            TODO: Implement Accuracy                      #\n",
    "############################################################\n",
    "new_accuracy = tf.reduce_mean(tf.cast(tf.equal(tf.argmax(y_hat, axis=1), tf.argmax(y_new, axis=1)), tf.float32))\n",
    "############################################################"
   ]
  },
  {
   "cell_type": "markdown",
   "metadata": {
    "id": "XrNgXOmG9UHu",
    "colab_type": "text"
   },
   "source": [
    "Now, go for the rest of the job and start training:"
   ]
  },
  {
   "cell_type": "code",
   "execution_count": 72,
   "metadata": {
    "id": "jOP3K6tw9UHu",
    "colab_type": "code",
    "outputId": "7e757b9c-24b0-4a5b-b9ef-976fe4413f9d",
    "colab": {
     "base_uri": "https://localhost:8080/",
     "height": 10234.0
    }
   },
   "outputs": [
    {
     "name": "stdout",
     "output_type": "stream",
     "text": [
      "\n",
      "********** Epoch   0 **********\n",
      "Train:\t\tAccuracy= 0.3433 \tLoss= 1.1084\n",
      "Validation:\tAccuracy= 0.3600 \tLoss= 1.0915\n",
      "\n",
      "********** Epoch   1 **********\n",
      "Train:\t\tAccuracy= 0.3858 \tLoss= 1.0851\n",
      "Validation:\tAccuracy= 0.4400 \tLoss= 1.0721\n",
      "\n",
      "********** Epoch   2 **********\n",
      "Train:\t\tAccuracy= 0.4608 \tLoss= 1.0650\n",
      "Validation:\tAccuracy= 0.4767 \tLoss= 1.0535\n",
      "\n",
      "********** Epoch   3 **********\n",
      "Train:\t\tAccuracy= 0.5083 \tLoss= 1.0462\n",
      "Validation:\tAccuracy= 0.5233 \tLoss= 1.0352\n",
      "\n",
      "********** Epoch   4 **********\n",
      "Train:\t\tAccuracy= 0.5417 \tLoss= 1.0282\n",
      "Validation:\tAccuracy= 0.5533 \tLoss= 1.0173\n",
      "\n",
      "********** Epoch   5 **********\n",
      "Train:\t\tAccuracy= 0.5592 \tLoss= 1.0109\n",
      "Validation:\tAccuracy= 0.5600 \tLoss= 0.9998\n",
      "\n",
      "********** Epoch   6 **********\n",
      "Train:\t\tAccuracy= 0.5767 \tLoss= 0.9942\n",
      "Validation:\tAccuracy= 0.5733 \tLoss= 0.9829\n",
      "\n",
      "********** Epoch   7 **********\n",
      "Train:\t\tAccuracy= 0.6000 \tLoss= 0.9782\n",
      "Validation:\tAccuracy= 0.5967 \tLoss= 0.9667\n",
      "\n",
      "********** Epoch   8 **********\n",
      "Train:\t\tAccuracy= 0.6142 \tLoss= 0.9627\n",
      "Validation:\tAccuracy= 0.6000 \tLoss= 0.9510\n",
      "\n",
      "********** Epoch   9 **********\n",
      "Train:\t\tAccuracy= 0.6183 \tLoss= 0.9477\n",
      "Validation:\tAccuracy= 0.6033 \tLoss= 0.9360\n",
      "\n",
      "********** Epoch  10 **********\n",
      "Train:\t\tAccuracy= 0.6225 \tLoss= 0.9332\n",
      "Validation:\tAccuracy= 0.6100 \tLoss= 0.9217\n",
      "\n",
      "********** Epoch  11 **********\n",
      "Train:\t\tAccuracy= 0.6292 \tLoss= 0.9191\n",
      "Validation:\tAccuracy= 0.6133 \tLoss= 0.9082\n",
      "\n",
      "********** Epoch  12 **********\n",
      "Train:\t\tAccuracy= 0.6342 \tLoss= 0.9054\n",
      "Validation:\tAccuracy= 0.6167 \tLoss= 0.8954\n",
      "\n",
      "********** Epoch  13 **********\n",
      "Train:\t\tAccuracy= 0.6408 \tLoss= 0.8920\n",
      "Validation:\tAccuracy= 0.6267 \tLoss= 0.8833\n",
      "\n",
      "********** Epoch  14 **********\n",
      "Train:\t\tAccuracy= 0.6458 \tLoss= 0.8791\n",
      "Validation:\tAccuracy= 0.6300 \tLoss= 0.8717\n",
      "\n",
      "********** Epoch  15 **********\n",
      "Train:\t\tAccuracy= 0.6500 \tLoss= 0.8665\n",
      "Validation:\tAccuracy= 0.6433 \tLoss= 0.8606\n",
      "\n",
      "********** Epoch  16 **********\n",
      "Train:\t\tAccuracy= 0.6517 \tLoss= 0.8543\n",
      "Validation:\tAccuracy= 0.6400 \tLoss= 0.8499\n",
      "\n",
      "********** Epoch  17 **********\n",
      "Train:\t\tAccuracy= 0.6650 \tLoss= 0.8424\n",
      "Validation:\tAccuracy= 0.6500 \tLoss= 0.8397\n",
      "\n",
      "********** Epoch  18 **********\n",
      "Train:\t\tAccuracy= 0.6708 \tLoss= 0.8309\n",
      "Validation:\tAccuracy= 0.6533 \tLoss= 0.8300\n",
      "\n",
      "********** Epoch  19 **********\n",
      "Train:\t\tAccuracy= 0.6758 \tLoss= 0.8196\n",
      "Validation:\tAccuracy= 0.6600 \tLoss= 0.8207\n",
      "\n",
      "********** Epoch  20 **********\n",
      "Train:\t\tAccuracy= 0.6792 \tLoss= 0.8086\n",
      "Validation:\tAccuracy= 0.6600 \tLoss= 0.8117\n",
      "\n",
      "********** Epoch  21 **********\n",
      "Train:\t\tAccuracy= 0.6817 \tLoss= 0.7980\n",
      "Validation:\tAccuracy= 0.6700 \tLoss= 0.8032\n",
      "\n",
      "********** Epoch  22 **********\n",
      "Train:\t\tAccuracy= 0.6850 \tLoss= 0.7876\n",
      "Validation:\tAccuracy= 0.6733 \tLoss= 0.7951\n",
      "\n",
      "********** Epoch  23 **********\n",
      "Train:\t\tAccuracy= 0.6900 \tLoss= 0.7775\n",
      "Validation:\tAccuracy= 0.6833 \tLoss= 0.7873\n",
      "\n",
      "********** Epoch  24 **********\n",
      "Train:\t\tAccuracy= 0.6975 \tLoss= 0.7677\n",
      "Validation:\tAccuracy= 0.6867 \tLoss= 0.7801\n",
      "\n",
      "********** Epoch  25 **********\n",
      "Train:\t\tAccuracy= 0.7033 \tLoss= 0.7583\n",
      "Validation:\tAccuracy= 0.6867 \tLoss= 0.7732\n",
      "\n",
      "********** Epoch  26 **********\n",
      "Train:\t\tAccuracy= 0.7058 \tLoss= 0.7492\n",
      "Validation:\tAccuracy= 0.7000 \tLoss= 0.7666\n",
      "\n",
      "********** Epoch  27 **********\n",
      "Train:\t\tAccuracy= 0.7142 \tLoss= 0.7405\n",
      "Validation:\tAccuracy= 0.7033 \tLoss= 0.7604\n",
      "\n",
      "********** Epoch  28 **********\n",
      "Train:\t\tAccuracy= 0.7192 \tLoss= 0.7321\n",
      "Validation:\tAccuracy= 0.7067 \tLoss= 0.7544\n",
      "\n",
      "********** Epoch  29 **********\n",
      "Train:\t\tAccuracy= 0.7225 \tLoss= 0.7240\n",
      "Validation:\tAccuracy= 0.7000 \tLoss= 0.7488\n",
      "\n",
      "********** Epoch  30 **********\n",
      "Train:\t\tAccuracy= 0.7258 \tLoss= 0.7163\n",
      "Validation:\tAccuracy= 0.7100 \tLoss= 0.7435\n",
      "\n",
      "********** Epoch  31 **********\n",
      "Train:\t\tAccuracy= 0.7275 \tLoss= 0.7088\n",
      "Validation:\tAccuracy= 0.7133 \tLoss= 0.7385\n",
      "\n",
      "********** Epoch  32 **********\n",
      "Train:\t\tAccuracy= 0.7308 \tLoss= 0.7016\n",
      "Validation:\tAccuracy= 0.7100 \tLoss= 0.7339\n",
      "\n",
      "********** Epoch  33 **********\n",
      "Train:\t\tAccuracy= 0.7317 \tLoss= 0.6947\n",
      "Validation:\tAccuracy= 0.7133 \tLoss= 0.7296\n",
      "\n",
      "********** Epoch  34 **********\n",
      "Train:\t\tAccuracy= 0.7375 \tLoss= 0.6880\n",
      "Validation:\tAccuracy= 0.7167 \tLoss= 0.7256\n",
      "\n",
      "********** Epoch  35 **********\n",
      "Train:\t\tAccuracy= 0.7408 \tLoss= 0.6816\n",
      "Validation:\tAccuracy= 0.7167 \tLoss= 0.7219\n",
      "\n",
      "********** Epoch  36 **********\n",
      "Train:\t\tAccuracy= 0.7417 \tLoss= 0.6754\n",
      "Validation:\tAccuracy= 0.7167 \tLoss= 0.7184\n",
      "\n",
      "********** Epoch  37 **********\n",
      "Train:\t\tAccuracy= 0.7425 \tLoss= 0.6695\n",
      "Validation:\tAccuracy= 0.7100 \tLoss= 0.7152\n",
      "\n",
      "********** Epoch  38 **********\n",
      "Train:\t\tAccuracy= 0.7458 \tLoss= 0.6637\n",
      "Validation:\tAccuracy= 0.7100 \tLoss= 0.7122\n",
      "\n",
      "********** Epoch  39 **********\n",
      "Train:\t\tAccuracy= 0.7492 \tLoss= 0.6582\n",
      "Validation:\tAccuracy= 0.7100 \tLoss= 0.7094\n",
      "\n",
      "********** Epoch  40 **********\n",
      "Train:\t\tAccuracy= 0.7508 \tLoss= 0.6528\n",
      "Validation:\tAccuracy= 0.7133 \tLoss= 0.7068\n",
      "\n",
      "********** Epoch  41 **********\n",
      "Train:\t\tAccuracy= 0.7533 \tLoss= 0.6476\n",
      "Validation:\tAccuracy= 0.7167 \tLoss= 0.7044\n",
      "\n",
      "********** Epoch  42 **********\n",
      "Train:\t\tAccuracy= 0.7542 \tLoss= 0.6426\n",
      "Validation:\tAccuracy= 0.7167 \tLoss= 0.7022\n",
      "\n",
      "********** Epoch  43 **********\n",
      "Train:\t\tAccuracy= 0.7525 \tLoss= 0.6377\n",
      "Validation:\tAccuracy= 0.7233 \tLoss= 0.7001\n",
      "\n",
      "********** Epoch  44 **********\n",
      "Train:\t\tAccuracy= 0.7542 \tLoss= 0.6329\n",
      "Validation:\tAccuracy= 0.7233 \tLoss= 0.6982\n",
      "\n",
      "********** Epoch  45 **********\n",
      "Train:\t\tAccuracy= 0.7542 \tLoss= 0.6283\n",
      "Validation:\tAccuracy= 0.7267 \tLoss= 0.6964\n",
      "\n",
      "********** Epoch  46 **********\n",
      "Train:\t\tAccuracy= 0.7592 \tLoss= 0.6239\n",
      "Validation:\tAccuracy= 0.7267 \tLoss= 0.6947\n",
      "\n",
      "********** Epoch  47 **********\n",
      "Train:\t\tAccuracy= 0.7617 \tLoss= 0.6195\n",
      "Validation:\tAccuracy= 0.7300 \tLoss= 0.6932\n",
      "\n",
      "********** Epoch  48 **********\n",
      "Train:\t\tAccuracy= 0.7633 \tLoss= 0.6153\n",
      "Validation:\tAccuracy= 0.7300 \tLoss= 0.6917\n",
      "\n",
      "********** Epoch  49 **********\n",
      "Train:\t\tAccuracy= 0.7642 \tLoss= 0.6112\n",
      "Validation:\tAccuracy= 0.7300 \tLoss= 0.6903\n",
      "\n",
      "********** Epoch  50 **********\n",
      "Train:\t\tAccuracy= 0.7633 \tLoss= 0.6071\n",
      "Validation:\tAccuracy= 0.7267 \tLoss= 0.6890\n",
      "\n",
      "********** Epoch  51 **********\n",
      "Train:\t\tAccuracy= 0.7658 \tLoss= 0.6032\n",
      "Validation:\tAccuracy= 0.7267 \tLoss= 0.6878\n",
      "\n",
      "********** Epoch  52 **********\n",
      "Train:\t\tAccuracy= 0.7675 \tLoss= 0.5994\n",
      "Validation:\tAccuracy= 0.7300 \tLoss= 0.6867\n",
      "\n",
      "********** Epoch  53 **********\n",
      "Train:\t\tAccuracy= 0.7675 \tLoss= 0.5957\n",
      "Validation:\tAccuracy= 0.7300 \tLoss= 0.6858\n",
      "\n",
      "********** Epoch  54 **********\n",
      "Train:\t\tAccuracy= 0.7717 \tLoss= 0.5921\n",
      "Validation:\tAccuracy= 0.7300 \tLoss= 0.6850\n",
      "\n",
      "********** Epoch  55 **********\n",
      "Train:\t\tAccuracy= 0.7725 \tLoss= 0.5885\n",
      "Validation:\tAccuracy= 0.7300 \tLoss= 0.6842\n",
      "\n",
      "********** Epoch  56 **********\n",
      "Train:\t\tAccuracy= 0.7733 \tLoss= 0.5850\n",
      "Validation:\tAccuracy= 0.7333 \tLoss= 0.6834\n",
      "\n",
      "********** Epoch  57 **********\n",
      "Train:\t\tAccuracy= 0.7775 \tLoss= 0.5816\n",
      "Validation:\tAccuracy= 0.7300 \tLoss= 0.6827\n",
      "\n",
      "********** Epoch  58 **********\n",
      "Train:\t\tAccuracy= 0.7783 \tLoss= 0.5782\n",
      "Validation:\tAccuracy= 0.7267 \tLoss= 0.6820\n",
      "\n",
      "********** Epoch  59 **********\n",
      "Train:\t\tAccuracy= 0.7800 \tLoss= 0.5749\n",
      "Validation:\tAccuracy= 0.7233 \tLoss= 0.6813\n",
      "\n",
      "********** Epoch  60 **********\n",
      "Train:\t\tAccuracy= 0.7825 \tLoss= 0.5717\n",
      "Validation:\tAccuracy= 0.7233 \tLoss= 0.6808\n",
      "\n",
      "********** Epoch  61 **********\n",
      "Train:\t\tAccuracy= 0.7858 \tLoss= 0.5685\n",
      "Validation:\tAccuracy= 0.7233 \tLoss= 0.6803\n",
      "\n",
      "********** Epoch  62 **********\n",
      "Train:\t\tAccuracy= 0.7875 \tLoss= 0.5654\n",
      "Validation:\tAccuracy= 0.7200 \tLoss= 0.6800\n",
      "\n",
      "********** Epoch  63 **********\n",
      "Train:\t\tAccuracy= 0.7875 \tLoss= 0.5623\n",
      "Validation:\tAccuracy= 0.7200 \tLoss= 0.6797\n",
      "\n",
      "********** Epoch  64 **********\n",
      "Train:\t\tAccuracy= 0.7883 \tLoss= 0.5593\n",
      "Validation:\tAccuracy= 0.7200 \tLoss= 0.6795\n",
      "\n",
      "********** Epoch  65 **********\n",
      "Train:\t\tAccuracy= 0.7892 \tLoss= 0.5562\n",
      "Validation:\tAccuracy= 0.7200 \tLoss= 0.6793\n",
      "\n",
      "********** Epoch  66 **********\n",
      "Train:\t\tAccuracy= 0.7917 \tLoss= 0.5533\n",
      "Validation:\tAccuracy= 0.7267 \tLoss= 0.6792\n",
      "\n",
      "********** Epoch  67 **********\n",
      "Train:\t\tAccuracy= 0.7908 \tLoss= 0.5504\n",
      "Validation:\tAccuracy= 0.7233 \tLoss= 0.6790\n",
      "\n",
      "********** Epoch  68 **********\n",
      "Train:\t\tAccuracy= 0.7917 \tLoss= 0.5475\n",
      "Validation:\tAccuracy= 0.7233 \tLoss= 0.6789\n",
      "\n",
      "********** Epoch  69 **********\n",
      "Train:\t\tAccuracy= 0.7942 \tLoss= 0.5446\n",
      "Validation:\tAccuracy= 0.7233 \tLoss= 0.6786\n",
      "\n",
      "********** Epoch  70 **********\n",
      "Train:\t\tAccuracy= 0.7950 \tLoss= 0.5418\n",
      "Validation:\tAccuracy= 0.7233 \tLoss= 0.6784\n",
      "\n",
      "********** Epoch  71 **********\n",
      "Train:\t\tAccuracy= 0.7967 \tLoss= 0.5390\n",
      "Validation:\tAccuracy= 0.7233 \tLoss= 0.6783\n",
      "\n",
      "********** Epoch  72 **********\n",
      "Train:\t\tAccuracy= 0.7975 \tLoss= 0.5362\n",
      "Validation:\tAccuracy= 0.7233 \tLoss= 0.6781\n",
      "\n",
      "********** Epoch  73 **********\n",
      "Train:\t\tAccuracy= 0.7992 \tLoss= 0.5334\n",
      "Validation:\tAccuracy= 0.7233 \tLoss= 0.6780\n",
      "\n",
      "********** Epoch  74 **********\n",
      "Train:\t\tAccuracy= 0.8008 \tLoss= 0.5307\n",
      "Validation:\tAccuracy= 0.7233 \tLoss= 0.6778\n",
      "\n",
      "********** Epoch  75 **********\n",
      "Train:\t\tAccuracy= 0.8008 \tLoss= 0.5279\n",
      "Validation:\tAccuracy= 0.7233 \tLoss= 0.6776\n",
      "\n",
      "********** Epoch  76 **********\n",
      "Train:\t\tAccuracy= 0.8025 \tLoss= 0.5253\n",
      "Validation:\tAccuracy= 0.7233 \tLoss= 0.6774\n",
      "\n",
      "********** Epoch  77 **********\n",
      "Train:\t\tAccuracy= 0.8050 \tLoss= 0.5226\n",
      "Validation:\tAccuracy= 0.7233 \tLoss= 0.6772\n",
      "\n",
      "********** Epoch  78 **********\n",
      "Train:\t\tAccuracy= 0.8050 \tLoss= 0.5199\n",
      "Validation:\tAccuracy= 0.7233 \tLoss= 0.6770\n",
      "\n",
      "********** Epoch  79 **********\n",
      "Train:\t\tAccuracy= 0.8075 \tLoss= 0.5173\n",
      "Validation:\tAccuracy= 0.7300 \tLoss= 0.6767\n",
      "\n",
      "********** Epoch  80 **********\n",
      "Train:\t\tAccuracy= 0.8083 \tLoss= 0.5147\n",
      "Validation:\tAccuracy= 0.7300 \tLoss= 0.6765\n",
      "\n",
      "********** Epoch  81 **********\n",
      "Train:\t\tAccuracy= 0.8092 \tLoss= 0.5121\n",
      "Validation:\tAccuracy= 0.7267 \tLoss= 0.6762\n",
      "\n",
      "********** Epoch  82 **********\n",
      "Train:\t\tAccuracy= 0.8108 \tLoss= 0.5095\n",
      "Validation:\tAccuracy= 0.7267 \tLoss= 0.6759\n",
      "\n",
      "********** Epoch  83 **********\n",
      "Train:\t\tAccuracy= 0.8100 \tLoss= 0.5070\n",
      "Validation:\tAccuracy= 0.7267 \tLoss= 0.6757\n",
      "\n",
      "********** Epoch  84 **********\n",
      "Train:\t\tAccuracy= 0.8108 \tLoss= 0.5044\n",
      "Validation:\tAccuracy= 0.7267 \tLoss= 0.6756\n",
      "\n",
      "********** Epoch  85 **********\n",
      "Train:\t\tAccuracy= 0.8125 \tLoss= 0.5019\n",
      "Validation:\tAccuracy= 0.7233 \tLoss= 0.6755\n",
      "\n",
      "********** Epoch  86 **********\n",
      "Train:\t\tAccuracy= 0.8125 \tLoss= 0.4995\n",
      "Validation:\tAccuracy= 0.7233 \tLoss= 0.6755\n",
      "\n",
      "********** Epoch  87 **********\n",
      "Train:\t\tAccuracy= 0.8133 \tLoss= 0.4970\n",
      "Validation:\tAccuracy= 0.7233 \tLoss= 0.6756\n",
      "\n",
      "********** Epoch  88 **********\n",
      "Train:\t\tAccuracy= 0.8167 \tLoss= 0.4945\n",
      "Validation:\tAccuracy= 0.7233 \tLoss= 0.6758\n",
      "\n",
      "********** Epoch  89 **********\n",
      "Train:\t\tAccuracy= 0.8175 \tLoss= 0.4921\n",
      "Validation:\tAccuracy= 0.7233 \tLoss= 0.6758\n",
      "\n",
      "********** Epoch  90 **********\n",
      "Train:\t\tAccuracy= 0.8183 \tLoss= 0.4897\n",
      "Validation:\tAccuracy= 0.7233 \tLoss= 0.6759\n",
      "\n",
      "********** Epoch  91 **********\n",
      "Train:\t\tAccuracy= 0.8183 \tLoss= 0.4872\n",
      "Validation:\tAccuracy= 0.7233 \tLoss= 0.6759\n",
      "\n",
      "********** Epoch  92 **********\n",
      "Train:\t\tAccuracy= 0.8200 \tLoss= 0.4849\n",
      "Validation:\tAccuracy= 0.7233 \tLoss= 0.6758\n",
      "\n",
      "********** Epoch  93 **********\n",
      "Train:\t\tAccuracy= 0.8217 \tLoss= 0.4825\n",
      "Validation:\tAccuracy= 0.7233 \tLoss= 0.6758\n",
      "\n",
      "********** Epoch  94 **********\n",
      "Train:\t\tAccuracy= 0.8242 \tLoss= 0.4801\n",
      "Validation:\tAccuracy= 0.7233 \tLoss= 0.6758\n",
      "\n",
      "********** Epoch  95 **********\n",
      "Train:\t\tAccuracy= 0.8258 \tLoss= 0.4778\n",
      "Validation:\tAccuracy= 0.7233 \tLoss= 0.6758\n",
      "\n",
      "********** Epoch  96 **********\n",
      "Train:\t\tAccuracy= 0.8275 \tLoss= 0.4754\n",
      "Validation:\tAccuracy= 0.7333 \tLoss= 0.6758\n",
      "\n",
      "********** Epoch  97 **********\n",
      "Train:\t\tAccuracy= 0.8275 \tLoss= 0.4731\n",
      "Validation:\tAccuracy= 0.7367 \tLoss= 0.6758\n",
      "\n",
      "********** Epoch  98 **********\n",
      "Train:\t\tAccuracy= 0.8283 \tLoss= 0.4708\n",
      "Validation:\tAccuracy= 0.7400 \tLoss= 0.6757\n",
      "\n",
      "********** Epoch  99 **********\n",
      "Train:\t\tAccuracy= 0.8292 \tLoss= 0.4685\n",
      "Validation:\tAccuracy= 0.7400 \tLoss= 0.6758\n",
      "\n",
      "********** Epoch 100 **********\n",
      "Train:\t\tAccuracy= 0.8308 \tLoss= 0.4662\n",
      "Validation:\tAccuracy= 0.7400 \tLoss= 0.6758\n",
      "\n",
      "********** Epoch 101 **********\n",
      "Train:\t\tAccuracy= 0.8325 \tLoss= 0.4639\n",
      "Validation:\tAccuracy= 0.7400 \tLoss= 0.6758\n",
      "\n",
      "********** Epoch 102 **********\n",
      "Train:\t\tAccuracy= 0.8325 \tLoss= 0.4616\n",
      "Validation:\tAccuracy= 0.7367 \tLoss= 0.6758\n",
      "\n",
      "********** Epoch 103 **********\n",
      "Train:\t\tAccuracy= 0.8325 \tLoss= 0.4594\n",
      "Validation:\tAccuracy= 0.7367 \tLoss= 0.6759\n",
      "\n",
      "********** Epoch 104 **********\n",
      "Train:\t\tAccuracy= 0.8358 \tLoss= 0.4572\n",
      "Validation:\tAccuracy= 0.7333 \tLoss= 0.6759\n",
      "\n",
      "********** Epoch 105 **********\n",
      "Train:\t\tAccuracy= 0.8358 \tLoss= 0.4549\n",
      "Validation:\tAccuracy= 0.7333 \tLoss= 0.6759\n",
      "\n",
      "********** Epoch 106 **********\n",
      "Train:\t\tAccuracy= 0.8358 \tLoss= 0.4527\n",
      "Validation:\tAccuracy= 0.7333 \tLoss= 0.6759\n",
      "\n",
      "********** Epoch 107 **********\n",
      "Train:\t\tAccuracy= 0.8367 \tLoss= 0.4505\n",
      "Validation:\tAccuracy= 0.7333 \tLoss= 0.6759\n",
      "\n",
      "********** Epoch 108 **********\n",
      "Train:\t\tAccuracy= 0.8383 \tLoss= 0.4483\n",
      "Validation:\tAccuracy= 0.7333 \tLoss= 0.6759\n",
      "\n",
      "********** Epoch 109 **********\n",
      "Train:\t\tAccuracy= 0.8383 \tLoss= 0.4461\n",
      "Validation:\tAccuracy= 0.7333 \tLoss= 0.6760\n",
      "\n",
      "********** Epoch 110 **********\n",
      "Train:\t\tAccuracy= 0.8408 \tLoss= 0.4439\n",
      "Validation:\tAccuracy= 0.7367 \tLoss= 0.6760\n",
      "\n",
      "********** Epoch 111 **********\n",
      "Train:\t\tAccuracy= 0.8408 \tLoss= 0.4417\n",
      "Validation:\tAccuracy= 0.7367 \tLoss= 0.6760\n",
      "\n",
      "********** Epoch 112 **********\n",
      "Train:\t\tAccuracy= 0.8408 \tLoss= 0.4396\n",
      "Validation:\tAccuracy= 0.7367 \tLoss= 0.6760\n",
      "\n",
      "********** Epoch 113 **********\n",
      "Train:\t\tAccuracy= 0.8417 \tLoss= 0.4374\n",
      "Validation:\tAccuracy= 0.7367 \tLoss= 0.6759\n",
      "\n",
      "********** Epoch 114 **********\n",
      "Train:\t\tAccuracy= 0.8425 \tLoss= 0.4352\n",
      "Validation:\tAccuracy= 0.7400 \tLoss= 0.6759\n",
      "\n",
      "********** Epoch 115 **********\n",
      "Train:\t\tAccuracy= 0.8425 \tLoss= 0.4330\n",
      "Validation:\tAccuracy= 0.7400 \tLoss= 0.6760\n",
      "\n",
      "********** Epoch 116 **********\n",
      "Train:\t\tAccuracy= 0.8433 \tLoss= 0.4309\n",
      "Validation:\tAccuracy= 0.7400 \tLoss= 0.6759\n",
      "\n",
      "********** Epoch 117 **********\n",
      "Train:\t\tAccuracy= 0.8458 \tLoss= 0.4287\n",
      "Validation:\tAccuracy= 0.7367 \tLoss= 0.6758\n",
      "\n",
      "********** Epoch 118 **********\n",
      "Train:\t\tAccuracy= 0.8467 \tLoss= 0.4266\n",
      "Validation:\tAccuracy= 0.7367 \tLoss= 0.6758\n",
      "\n",
      "********** Epoch 119 **********\n",
      "Train:\t\tAccuracy= 0.8492 \tLoss= 0.4245\n",
      "Validation:\tAccuracy= 0.7367 \tLoss= 0.6758\n",
      "\n",
      "********** Epoch 120 **********\n",
      "Train:\t\tAccuracy= 0.8492 \tLoss= 0.4224\n",
      "Validation:\tAccuracy= 0.7367 \tLoss= 0.6757\n",
      "\n",
      "********** Epoch 121 **********\n",
      "Train:\t\tAccuracy= 0.8508 \tLoss= 0.4202\n",
      "Validation:\tAccuracy= 0.7333 \tLoss= 0.6756\n",
      "\n",
      "********** Epoch 122 **********\n",
      "Train:\t\tAccuracy= 0.8517 \tLoss= 0.4181\n",
      "Validation:\tAccuracy= 0.7333 \tLoss= 0.6757\n",
      "\n",
      "********** Epoch 123 **********\n",
      "Train:\t\tAccuracy= 0.8533 \tLoss= 0.4160\n",
      "Validation:\tAccuracy= 0.7333 \tLoss= 0.6757\n",
      "\n",
      "********** Epoch 124 **********\n",
      "Train:\t\tAccuracy= 0.8542 \tLoss= 0.4139\n",
      "Validation:\tAccuracy= 0.7333 \tLoss= 0.6756\n",
      "\n",
      "********** Epoch 125 **********\n",
      "Train:\t\tAccuracy= 0.8550 \tLoss= 0.4118\n",
      "Validation:\tAccuracy= 0.7267 \tLoss= 0.6756\n",
      "\n",
      "********** Epoch 126 **********\n",
      "Train:\t\tAccuracy= 0.8567 \tLoss= 0.4097\n",
      "Validation:\tAccuracy= 0.7267 \tLoss= 0.6757\n",
      "\n",
      "********** Epoch 127 **********\n",
      "Train:\t\tAccuracy= 0.8583 \tLoss= 0.4077\n",
      "Validation:\tAccuracy= 0.7300 \tLoss= 0.6757\n",
      "\n",
      "********** Epoch 128 **********\n",
      "Train:\t\tAccuracy= 0.8608 \tLoss= 0.4056\n",
      "Validation:\tAccuracy= 0.7300 \tLoss= 0.6759\n",
      "\n",
      "********** Epoch 129 **********\n",
      "Train:\t\tAccuracy= 0.8617 \tLoss= 0.4035\n",
      "Validation:\tAccuracy= 0.7300 \tLoss= 0.6760\n",
      "\n",
      "********** Epoch 130 **********\n",
      "Train:\t\tAccuracy= 0.8625 \tLoss= 0.4014\n",
      "Validation:\tAccuracy= 0.7300 \tLoss= 0.6762\n",
      "\n",
      "********** Epoch 131 **********\n",
      "Train:\t\tAccuracy= 0.8650 \tLoss= 0.3994\n",
      "Validation:\tAccuracy= 0.7300 \tLoss= 0.6763\n",
      "\n",
      "********** Epoch 132 **********\n",
      "Train:\t\tAccuracy= 0.8658 \tLoss= 0.3973\n",
      "Validation:\tAccuracy= 0.7300 \tLoss= 0.6764\n",
      "\n",
      "********** Epoch 133 **********\n",
      "Train:\t\tAccuracy= 0.8667 \tLoss= 0.3953\n",
      "Validation:\tAccuracy= 0.7333 \tLoss= 0.6765\n",
      "\n",
      "********** Epoch 134 **********\n",
      "Train:\t\tAccuracy= 0.8667 \tLoss= 0.3932\n",
      "Validation:\tAccuracy= 0.7333 \tLoss= 0.6766\n",
      "\n",
      "********** Epoch 135 **********\n",
      "Train:\t\tAccuracy= 0.8700 \tLoss= 0.3911\n",
      "Validation:\tAccuracy= 0.7333 \tLoss= 0.6767\n",
      "\n",
      "********** Epoch 136 **********\n",
      "Train:\t\tAccuracy= 0.8708 \tLoss= 0.3891\n",
      "Validation:\tAccuracy= 0.7367 \tLoss= 0.6767\n",
      "\n",
      "********** Epoch 137 **********\n",
      "Train:\t\tAccuracy= 0.8725 \tLoss= 0.3870\n",
      "Validation:\tAccuracy= 0.7367 \tLoss= 0.6768\n",
      "\n",
      "********** Epoch 138 **********\n",
      "Train:\t\tAccuracy= 0.8725 \tLoss= 0.3850\n",
      "Validation:\tAccuracy= 0.7367 \tLoss= 0.6769\n",
      "\n",
      "********** Epoch 139 **********\n",
      "Train:\t\tAccuracy= 0.8733 \tLoss= 0.3830\n",
      "Validation:\tAccuracy= 0.7367 \tLoss= 0.6768\n",
      "\n",
      "********** Epoch 140 **********\n",
      "Train:\t\tAccuracy= 0.8742 \tLoss= 0.3809\n",
      "Validation:\tAccuracy= 0.7367 \tLoss= 0.6769\n",
      "\n",
      "********** Epoch 141 **********\n",
      "Train:\t\tAccuracy= 0.8758 \tLoss= 0.3789\n",
      "Validation:\tAccuracy= 0.7367 \tLoss= 0.6771\n",
      "\n",
      "********** Epoch 142 **********\n",
      "Train:\t\tAccuracy= 0.8758 \tLoss= 0.3769\n",
      "Validation:\tAccuracy= 0.7367 \tLoss= 0.6772\n",
      "\n",
      "********** Epoch 143 **********\n",
      "Train:\t\tAccuracy= 0.8767 \tLoss= 0.3748\n",
      "Validation:\tAccuracy= 0.7367 \tLoss= 0.6773\n",
      "\n",
      "********** Epoch 144 **********\n",
      "Train:\t\tAccuracy= 0.8783 \tLoss= 0.3728\n",
      "Validation:\tAccuracy= 0.7333 \tLoss= 0.6774\n",
      "\n",
      "********** Epoch 145 **********\n",
      "Train:\t\tAccuracy= 0.8783 \tLoss= 0.3708\n",
      "Validation:\tAccuracy= 0.7333 \tLoss= 0.6776\n",
      "\n",
      "********** Epoch 146 **********\n",
      "Train:\t\tAccuracy= 0.8792 \tLoss= 0.3688\n",
      "Validation:\tAccuracy= 0.7333 \tLoss= 0.6776\n",
      "\n",
      "********** Epoch 147 **********\n",
      "Train:\t\tAccuracy= 0.8800 \tLoss= 0.3668\n",
      "Validation:\tAccuracy= 0.7333 \tLoss= 0.6777\n",
      "\n",
      "********** Epoch 148 **********\n",
      "Train:\t\tAccuracy= 0.8808 \tLoss= 0.3647\n",
      "Validation:\tAccuracy= 0.7333 \tLoss= 0.6780\n",
      "\n",
      "********** Epoch 149 **********\n",
      "Train:\t\tAccuracy= 0.8817 \tLoss= 0.3627\n",
      "Validation:\tAccuracy= 0.7300 \tLoss= 0.6782\n",
      "Test:\tAccuracy= 0.7867 \tLoss= 0.6351\n"
     ]
    }
   ],
   "source": [
    "########## Training ##########\n",
    "batch_size = 1024 # You are free to change it\n",
    "x_train_batches, y_train_batches = make_batches(images_train, labels_train_onehot, batch_size)\n",
    "epochs = 150  # You are free to change it\n",
    "N_Batches = len(x_train_batches)\n",
    "\n",
    "train_acc  = np.zeros(epochs)\n",
    "train_loss = np.zeros(epochs)\n",
    "val_acc  = np.zeros(epochs)\n",
    "val_loss = np.zeros(epochs)\n",
    "\n",
    "sess = tf.Session()\n",
    "sess.run(tf.global_variables_initializer())\n",
    "for epoch in range(epochs):\n",
    "    print()\n",
    "    print(\"*\" * 10, \"Epoch %3i\"%epoch, \"*\" * 10)\n",
    "\n",
    "    batch_acc = np.zeros(N_Batches)\n",
    "    batch_loss = np.zeros(N_Batches)\n",
    "    for n in range(N_Batches):\n",
    "        _, batch_acc[n], batch_loss[n] = sess.run([new_trainer, new_accuracy, new_cross_entropy],\n",
    "                                                  {x: x_train_batches[n], y_new: y_train_batches[n]})\n",
    "            #print(\"Batch %3d/%d: Acc:%0.4f , Loss:%0.4f\"%(n, N_Batches, batch_acc[n], batch_loss[n]))\n",
    "\n",
    "    train_acc[epoch] = np.mean(batch_acc)\n",
    "    train_loss[epoch] = np.mean(batch_loss)\n",
    "    print(\"Train:\\t\\tAccuracy= %0.4f \\tLoss= %0.4f\"%(train_acc[epoch], train_loss[epoch]))\n",
    "\n",
    "        ########## Validation ##########\n",
    "    val_acc[epoch], val_loss[epoch] = sess.run([new_accuracy, new_cross_entropy],\n",
    "                                               {x: images_validation, y_new: labels_val_onehot})\n",
    "    print(\"Validation:\\tAccuracy= %0.4f \\tLoss= %0.4f\"%(val_acc[epoch], val_loss[epoch]))\n",
    "        \n",
    "############################################################\n",
    "#            TODO: Implement Test Phase                    #\n",
    "############################################################\n",
    "test_acc, test_loss = sess.run([new_accuracy, new_cross_entropy],\n",
    "                                       {x: images_test, y_new: labels_test_onehot})\n",
    "print(\"Test:\\tAccuracy= %0.4f \\tLoss= %0.4f\"%(test_acc, test_loss))\n",
    "############################################################"
   ]
  },
  {
   "cell_type": "markdown",
   "metadata": {
    "id": "p7MxLjrd9UHw",
    "colab_type": "text"
   },
   "source": [
    "You can use tensorboard or the code provided in the next box to plot for loss and accuracy of training and validation data. You are expected to achieve at least 80% accuracy on the test data after training. Good Luck! ;)"
   ]
  },
  {
   "cell_type": "markdown",
   "metadata": {
    "id": "wVeS5a6I9UHx",
    "colab_type": "text"
   },
   "source": [
    "### Training Diagram"
   ]
  },
  {
   "cell_type": "code",
   "execution_count": 73,
   "metadata": {
    "id": "9SanjUI89UHx",
    "colab_type": "code",
    "outputId": "889c6429-6151-4fd2-a190-ca27b6291ef8",
    "colab": {
     "base_uri": "https://localhost:8080/",
     "height": 573.0
    }
   },
   "outputs": [
    {
     "data": {
      "image/png": "[encoded data removed]",
      "text/plain": [
       "<Figure size 432x288 with 1 Axes>"
      ]
     },
     "metadata": {
      "tags": []
     },
     "output_type": "display_data"
    },
    {
     "data": {
      "image/png": "[encoded data removed]",
      "text/plain": [
       "<Figure size 432x288 with 1 Axes>"
      ]
     },
     "metadata": {
      "tags": []
     },
     "output_type": "display_data"
    }
   ],
   "source": [
    "########## Plot metrics #########################\n",
    "fig = plt.figure()\n",
    "plt.plot(range(epochs), train_acc, label='Train')\n",
    "plt.plot(range(epochs), val_acc, label='Validation')\n",
    "plt.title(\"Training and Validation Accuracy\")\n",
    "plt.xlabel(\"epoch\")\n",
    "plt.ylabel(\"Accuracy\")\n",
    "plt.grid(True)\n",
    "plt.legend(loc=0)\n",
    "plt.show()\n",
    "\n",
    "fig = plt.figure()\n",
    "plt.plot(range(epochs), train_loss, label='Train')\n",
    "plt.plot(range(epochs), val_loss, label='Validation')\n",
    "plt.title(\"Training and Validation Loss\")\n",
    "plt.xlabel(\"epoch\")\n",
    "plt.ylabel(\"Cross entropy\")\n",
    "plt.grid(True)\n",
    "plt.legend(loc=0)\n",
    "plt.show()"
   ]
  }
 ],
 "metadata": {
  "colab": {
   "name": "CNN_on_CIFAR_dmm.ipynb",
   "version": "0.3.2",
   "provenance": [],
   "collapsed_sections": [],
   "toc_visible": true
  },
  "language_info": {
   "codemirror_mode": {
    "name": "ipython",
    "version": 3
   },
   "file_extension": ".py",
   "mimetype": "text/x-python",
   "name": "python",
   "nbconvert_exporter": "python",
   "pygments_lexer": "ipython3",
   "version": "3.6.3"
  },
  "kernelspec": {
   "name": "python3",
   "display_name": "Python 3"
  },
  "accelerator": "GPU"
 },
 "nbformat": 4,
 "nbformat_minor": 0
}
