{
 "cells": [
  {
   "cell_type": "markdown",
   "metadata": {},
   "source": [
    "# CE-40959: Deep Learning"
   ]
  },
  {
   "cell_type": "code",
   "execution_count": 1,
   "metadata": {},
   "outputs": [],
   "source": [
    "# importing modules\n",
    "from utils import load_data\n",
    "from models import Dense\n",
    "from train import train\n",
    "import tensorflow as tf\n",
    "import numpy as np\n",
    "import matplotlib.pyplot as plt\n",
    "\n",
    "%matplotlib inline\n",
    "plt.rcParams['figure.figsize'] = (10.0, 10.0) # set default size of plots\n",
    "plt.rcParams['image.interpolation'] = 'nearest'\n",
    "plt.rcParams['image.cmap'] = 'gray'\n",
    "\n",
    "# The following two lines let us reload external modules in the notebook\n",
    "%load_ext autoreload\n",
    "%autoreload 2"
   ]
  },
  {
   "cell_type": "markdown",
   "metadata": {},
   "source": [
    "# Data Description and Loading Data\n",
    "\n",
    "On this notebook, we are going to work on farsi OCR dataset. As its name implies, it is like famous **MNIST** dataset but it consists of images of handwritten digits in farsi. Each instance of this dataset is 32 * 32 gray-scale image. It is totally composed of 80000 instances. After loading this data, let's plot some images in order to see how they look like.\n",
    "\n",
    "Train, validation and test sets are loaded using a method in `utils.py`. Training set includes 0.7 of the whole dataset and test set just has 0.1 of it. Rest is assigned as validation set.\n",
    "\n",
    "**Note**: Images are flattened that's why their size is 1024 = 32 * 32."
   ]
  },
  {
   "cell_type": "code",
   "execution_count": 2,
   "metadata": {},
   "outputs": [
    {
     "name": "stdout",
     "output_type": "stream",
     "text": [
      "Loading the whole dataset...\n"
     ]
    }
   ],
   "source": [
    "x_train, y_train, x_validation, y_validation, x_test, y_test = load_data()"
   ]
  },
  {
   "cell_type": "code",
   "execution_count": 3,
   "metadata": {},
   "outputs": [
    {
     "data": {
      "image/png": "[encoded data removed]",
      "text/plain": [
       "<Figure size 432x288 with 100 Axes>"
      ]
     },
     "metadata": {
      "needs_background": "light"
     },
     "output_type": "display_data"
    }
   ],
   "source": [
    "num_sample = 10\n",
    "num_class = 10\n",
    "fig, ax = plt.subplots(nrows=num_sample, ncols=num_class)\n",
    "\n",
    "for i in range(num_class):\n",
    "    class_i_images = [x_train[k] for k in range(x_train.shape[0]) if y_train[k][i] == 1]\n",
    "    for j in range(num_sample):\n",
    "        ax[j, i].get_xaxis().set_visible(False)\n",
    "        ax[j, i].get_yaxis().set_visible(False)\n",
    "        ax[j, i].imshow(class_i_images[j].reshape((32, 32)))"
   ]
  },
  {
   "cell_type": "markdown",
   "metadata": {},
   "source": [
    "# Setting Flags\n",
    "Tensorflow has the option of setting of some flags which should be defined once and can be used in any file later.\n",
    "\n",
    "Here we define flags for\n",
    "1. `learning_rate`: Shows the initial learning rate in optimization process.\n",
    "\n",
    "2. `num_epoch`: The total number of epochs for training process.\n",
    "\n",
    "3. `weight_decay`: The coeffecient of L2 Loss term in total Loss function.\n",
    "\n",
    "4. `batch_size`: Size of each batch given to model."
   ]
  },
  {
   "cell_type": "code",
   "execution_count": 4,
   "metadata": {},
   "outputs": [],
   "source": [
    "flags = tf.app.flags\n",
    "FLAGS = flags.FLAGS\n",
    "flags.DEFINE_string('f', '', 'kernel')\n",
    "flags.DEFINE_float('learning_rate', 0.001, 'Initial learning rate.')\n",
    "flags.DEFINE_integer('num_epoch', 10, 'Number of epochs to train.')\n",
    "flags.DEFINE_float('weight_decay', 0., 'Weight for L2 loss')\n",
    "flags.DEFINE_integer('batch_size', 100, 'Size of batch')"
   ]
  },
  {
   "cell_type": "markdown",
   "metadata": {},
   "source": [
    "# Defining Initializers\n",
    "\n",
    "In the following cell we are importing some intializers which are defined in `utils.py`. Based on their explanation, you have to complete their code in `utils.py` and then import them."
   ]
  },
  {
   "cell_type": "code",
   "execution_count": 5,
   "metadata": {},
   "outputs": [],
   "source": [
    "from utils import glorot_initializer, zero_initializer, normal_initializer"
   ]
  },
  {
   "cell_type": "markdown",
   "metadata": {},
   "source": [
    "# Developing MLP Model\n",
    "\n",
    "`Dense` model is defined as a python class in `models.py`. Its constructor receives as input followings:\n",
    "\n",
    "1. num_hidden: Number of hidden units and output units.\n",
    "2. weight_initializer: Function used for initializing weights\n",
    "3. bias_initializer: Function used for initializing biases\n",
    "4. act: Activation function used for hidden layers\n",
    "5. logging: This is a boolean showing whether the model saves log of weights and biases for later visualization using tensorboard.\n",
    "6. stddev: Standard deviation in case of having normal initializer for weights of layers.\n",
    "\n",
    "You have to complete some parts of `__init__`, `_loss`, `_accuracy`, `_log_vars` and `_build` methods in this class.\n",
    "\n",
    "There is also another python file `layers.py` consists of the class `DenseLayer`. The arguments of its constructor are:\n",
    "1. input_dim: Dimension of input to layer\n",
    "2. output_dim: Dimension of output of layer\n",
    "3. act: Activation function of layer\n",
    "4. weight_initializer: Function used for initializing weights\n",
    "5. bias_initializer: Function used for initializing biases\n",
    "6. stddev: Standard deviation in case of having normal initializer for weights of the layer.\n",
    "\n",
    "Some part of `__call__` method of is left for you to complete.\n",
    "\n",
    "**Note**: It is necessary to complete aforementioned python files before moving forward to following cells."
   ]
  },
  {
   "cell_type": "markdown",
   "metadata": {},
   "source": [
    "# Experimenting on features of an MLP\n",
    "\n",
    "In the rest of this notebook, some experiments should be done on different setting like regularization, activation function, number of layers, etc combined with some visualizations."
   ]
  },
  {
   "cell_type": "markdown",
   "metadata": {},
   "source": [
    "## Different activation functions"
   ]
  },
  {
   "cell_type": "markdown",
   "metadata": {},
   "source": [
    "On the following cell we have defined a model with number of hidden units 200, 100, 50. Note that the outputs of last 10 units, after which a softmax function is applied, act as scores for 10 class of digits in data.\n",
    "\n",
    "You also have to use uniform glorot initializer and zero initializer for weights and biases, respectively.\n",
    "\n",
    "The last point here is that we are using **sigmoid** as activation function of all layers.\n",
    "\n",
    "Later, we will apply another one and observe its difference"
   ]
  },
  {
   "cell_type": "code",
   "execution_count": 6,
   "metadata": {},
   "outputs": [
    {
     "name": "stdout",
     "output_type": "stream",
     "text": [
      "WARNING:tensorflow:From /Users/danialmalakmohammad/PycharmProjects/Learning3/venv/lib/python3.6/site-packages/tensorflow/python/framework/op_def_library.py:263: colocate_with (from tensorflow.python.framework.ops) is deprecated and will be removed in a future version.\n",
      "Instructions for updating:\n",
      "Colocations handled automatically by placer.\n"
     ]
    }
   ],
   "source": [
    "model = Dense(num_hidden=[200, 100, 50, 10],\n",
    "              weight_initializer=glorot_initializer,\n",
    "              bias_initializer=zero_initializer,\n",
    "              act=tf.nn.sigmoid,\n",
    "              logging=True)"
   ]
  },
  {
   "cell_type": "markdown",
   "metadata": {},
   "source": [
    "After defining the model we need to trigger training process by using the code partly prepared in `train.py`. After filling required lines run the following cell to start training.\n",
    "In this file some writers are defined which are later used for plotting visualizations in tensorboard framework. Summary information defined as scalars (like loss) and histograms (like weights) are saved by this writers in `logs` folder near existing files. More specifically, for each model another folder whose name came from `log_file` variable is created.\n",
    "\n",
    "Furthermore, when you define a session using `with`, the session is just restricted to its following context and can not be used in outer scope."
   ]
  },
  {
   "cell_type": "code",
   "execution_count": 7,
   "metadata": {},
   "outputs": [
    {
     "name": "stdout",
     "output_type": "stream",
     "text": [
      "Epoch 1: train loss=2.324, train acc=0.101\n",
      "\n",
      "Epoch 2: train loss=2.305, train acc=0.121\n",
      "\n",
      "Epoch 3: train loss=2.301, train acc=0.136\n",
      "\n",
      "Epoch 4: train loss=2.299, train acc=0.151\n",
      "\n",
      "Epoch 5: train loss=2.298, train acc=0.172\n",
      "\n",
      "Epoch 6: train loss=2.297, train acc=0.192\n",
      "\n",
      "Epoch 7: train loss=2.296, train acc=0.213\n",
      "\n",
      "Epoch 8: train loss=2.295, train acc=0.234\n",
      "\n",
      "Epoch 9: train loss=2.294, train acc=0.255\n",
      "\n",
      "Epoch 10: train loss=2.293, train acc=0.280\n",
      "\n",
      "Test: average loss=2.293, average accuracy=0.276\n",
      "-------\n"
     ]
    }
   ],
   "source": [
    "with tf.Session() as sess:\n",
    "    log_file = str(model.act.__name__)\n",
    "    train(x_train, y_train, x_validation, y_validation, x_test, y_test, model, sess, log_file)"
   ]
  },
  {
   "cell_type": "markdown",
   "metadata": {},
   "source": [
    "**Important Note:** In order to run different computation graphs in the same process, it is compulsary to reset the default graph to a new one which is defined later. To do so, you have to use method `tf.rest_default_graph()` as in the following cell. Otherwise, you will end up with lots of nodes in the default graph of computation."
   ]
  },
  {
   "cell_type": "code",
   "execution_count": 8,
   "metadata": {},
   "outputs": [],
   "source": [
    "tf.reset_default_graph()"
   ]
  },
  {
   "cell_type": "markdown",
   "metadata": {},
   "source": [
    "Let's maintain the same settings but change activation function to **tanh** and run the whole process again."
   ]
  },
  {
   "cell_type": "code",
   "execution_count": 9,
   "metadata": {},
   "outputs": [
    {
     "name": "stdout",
     "output_type": "stream",
     "text": [
      "Epoch 1: train loss=1.174, train acc=0.767\n",
      "\n",
      "Epoch 2: train loss=0.826, train acc=0.829\n",
      "\n",
      "Epoch 3: train loss=0.667, train acc=0.855\n",
      "\n",
      "Epoch 4: train loss=0.573, train acc=0.871\n",
      "\n",
      "Epoch 5: train loss=0.509, train acc=0.882\n",
      "\n",
      "Epoch 6: train loss=0.463, train acc=0.890\n",
      "\n",
      "Epoch 7: train loss=0.427, train acc=0.897\n",
      "\n",
      "Epoch 8: train loss=0.399, train acc=0.902\n",
      "\n",
      "Epoch 9: train loss=0.375, train acc=0.906\n",
      "\n",
      "Epoch 10: train loss=0.356, train acc=0.910\n",
      "\n",
      "Test: average loss=0.356, average accuracy=0.910\n",
      "-------\n"
     ]
    }
   ],
   "source": [
    "model = Dense(num_hidden=[200, 100, 50, 10],\n",
    "              weight_initializer=glorot_initializer,\n",
    "              bias_initializer=zero_initializer,\n",
    "              act=tf.nn.tanh,\n",
    "              logging=True)\n",
    "with tf.Session() as sess:\n",
    "    log_file = str(model.act.__name__)\n",
    "    train(x_train, y_train, x_validation, y_validation, x_test, y_test, model, sess, log_file)\n",
    "tf.reset_default_graph()"
   ]
  },
  {
   "cell_type": "markdown",
   "metadata": {},
   "source": [
    "---\n",
    "\n",
    "# Question 1\n",
    "Compare `tanh` and `sigmoid` based on above results. Explain your observation from the visualizations produced by tensorboard.\n",
    "\n",
    "---"
   ]
  },
  {
   "cell_type": "markdown",
   "metadata": {},
   "source": [
    "## Different Initializations\n",
    "\n",
    "Next we want to see the effect of aforementioned initializers."
   ]
  },
  {
   "cell_type": "markdown",
   "metadata": {},
   "source": [
    "At first we use zero initializer both for biases and weights. By doing so, specially for weight initialization, the network will get in trouble with breaking the symmetry."
   ]
  },
  {
   "cell_type": "code",
   "execution_count": 10,
   "metadata": {},
   "outputs": [
    {
     "name": "stdout",
     "output_type": "stream",
     "text": [
      "Epoch 1: train loss=2.303, train acc=0.101\n",
      "\n",
      "Epoch 2: train loss=2.303, train acc=0.101\n",
      "\n",
      "Epoch 3: train loss=2.303, train acc=0.101\n",
      "\n",
      "Epoch 4: train loss=2.303, train acc=0.101\n",
      "\n",
      "Epoch 5: train loss=2.303, train acc=0.101\n",
      "\n",
      "Epoch 6: train loss=2.303, train acc=0.101\n",
      "\n",
      "Epoch 7: train loss=2.303, train acc=0.101\n",
      "\n",
      "Epoch 8: train loss=2.303, train acc=0.101\n",
      "\n",
      "Epoch 9: train loss=2.303, train acc=0.101\n",
      "\n",
      "Epoch 10: train loss=2.303, train acc=0.101\n",
      "\n",
      "Test: average loss=2.303, average accuracy=0.098\n",
      "-------\n"
     ]
    }
   ],
   "source": [
    "model = Dense(num_hidden=[200, 50, 10],\n",
    "              weight_initializer=zero_initializer,\n",
    "              bias_initializer=zero_initializer,\n",
    "              act=tf.nn.tanh,\n",
    "              logging=True)\n",
    "\n",
    "with tf.Session() as sess:\n",
    "    log_file = str(model.act.__name__) + \"_\" + str(model.weight_initializer.__name__)\n",
    "    train(x_train, y_train, x_validation, y_validation, x_test, y_test, model, sess, log_file)\n",
    "tf.reset_default_graph()    "
   ]
  },
  {
   "cell_type": "markdown",
   "metadata": {},
   "source": [
    "***\n",
    "\n",
    "# Question 2\n",
    "\n",
    "Use tensorboard visualizations of weights and learning curves (like loss and accuracy) as well to discuss about the issue raised by using zeros initializer for weights.\n",
    "\n",
    "---"
   ]
  },
  {
   "cell_type": "markdown",
   "metadata": {},
   "source": [
    "Let's see what is the impact of using normal initializer for weights.\n",
    "\n",
    "Do not forget to send in standard deviation of gaussain distribution used for sampling weights as an argument to model constructor for all next experiments."
   ]
  },
  {
   "cell_type": "code",
   "execution_count": 11,
   "metadata": {},
   "outputs": [
    {
     "name": "stdout",
     "output_type": "stream",
     "text": [
      "Normal Initializer with stddev: 10\n",
      "Epoch 1: train loss=100.984, train acc=0.072\n",
      "\n",
      "Epoch 2: train loss=98.763, train acc=0.075\n",
      "\n",
      "Epoch 3: train loss=96.732, train acc=0.077\n",
      "\n",
      "Epoch 4: train loss=95.026, train acc=0.080\n",
      "\n",
      "Epoch 5: train loss=93.342, train acc=0.084\n",
      "\n",
      "Epoch 6: train loss=91.936, train acc=0.087\n",
      "\n",
      "Epoch 7: train loss=90.380, train acc=0.090\n",
      "\n",
      "Epoch 8: train loss=89.027, train acc=0.093\n",
      "\n",
      "Epoch 9: train loss=87.689, train acc=0.096\n",
      "\n",
      "Epoch 10: train loss=86.468, train acc=0.099\n",
      "\n",
      "Test: average loss=90.005, average accuracy=0.090\n",
      "-------\n",
      "Normal Initializer with stddev: 1\n",
      "Epoch 1: train loss=8.281, train acc=0.141\n",
      "\n",
      "Epoch 2: train loss=6.934, train acc=0.176\n",
      "\n",
      "Epoch 3: train loss=5.893, train acc=0.218\n",
      "\n",
      "Epoch 4: train loss=5.113, train acc=0.264\n",
      "\n",
      "Epoch 5: train loss=4.530, train acc=0.310\n",
      "\n",
      "Epoch 6: train loss=4.082, train acc=0.352\n",
      "\n",
      "Epoch 7: train loss=3.731, train acc=0.389\n",
      "\n",
      "Epoch 8: train loss=3.451, train acc=0.418\n",
      "\n",
      "Epoch 9: train loss=3.222, train acc=0.446\n",
      "\n",
      "Epoch 10: train loss=3.029, train acc=0.468\n",
      "\n",
      "Test: average loss=3.095, average accuracy=0.463\n",
      "-------\n",
      "Normal Initializer with stddev: 0.1\n",
      "Epoch 1: train loss=1.939, train acc=0.451\n",
      "\n",
      "Epoch 2: train loss=1.556, train acc=0.689\n",
      "\n",
      "Epoch 3: train loss=1.270, train acc=0.764\n",
      "\n",
      "Epoch 4: train loss=1.061, train acc=0.799\n",
      "\n",
      "Epoch 5: train loss=0.910, train acc=0.820\n",
      "\n",
      "Epoch 6: train loss=0.798, train acc=0.835\n",
      "\n",
      "Epoch 7: train loss=0.714, train acc=0.845\n",
      "\n",
      "Epoch 8: train loss=0.650, train acc=0.854\n",
      "\n",
      "Epoch 9: train loss=0.599, train acc=0.861\n",
      "\n",
      "Epoch 10: train loss=0.557, train acc=0.866\n",
      "\n",
      "Test: average loss=0.554, average accuracy=0.870\n",
      "-------\n"
     ]
    }
   ],
   "source": [
    "stddev_list = [10, 1, 0.1]\n",
    "for stddev in stddev_list:\n",
    "    print('Normal Initializer with stddev: {}'.format(stddev))\n",
    "    model = Dense(num_hidden=[200, 50, 10],\n",
    "                  weight_initializer=normal_initializer,\n",
    "                  bias_initializer=zero_initializer,\n",
    "                  act=tf.nn.tanh,\n",
    "                  logging=True,\n",
    "                  stddev=stddev)\n",
    "\n",
    "    with tf.Session() as sess:\n",
    "        log_file = str(model.act.__name__) + \"_\" + str(model.weight_initializer.__name__) + \"_\" + str(stddev)\n",
    "        train(x_train, y_train, x_validation, y_validation, x_test, y_test, model, sess, log_file)\n",
    "    tf.reset_default_graph()"
   ]
  },
  {
   "cell_type": "markdown",
   "metadata": {},
   "source": [
    "---\n",
    "\n",
    "# Question 3\n",
    "\n",
    "Use tensorboard visualizations of weights and learning curves (like loss and accuracy) as well to describe differences through training process caused by using different standard deviations.\n",
    "\n",
    "---"
   ]
  },
  {
   "cell_type": "markdown",
   "metadata": {},
   "source": [
    "## Different Architectures (layers and units)\n",
    "\n",
    "Next, we will cast light on the importance of architecture of neural networks (more specifically number of layers and units)\n",
    "\n",
    "Here we will examine two architectures. Comparing with above setting, we will increase the number of epochs to 15 and change learning rate to 0.01. What makes difference between two architectures is the number of layers and units.\n",
    "\n",
    "In the first one we have 3 hidden layers with 500, 100, 50 units, respectively. This model imposes high computational cost. On the other hand, the second network has one less hidden layer but same number of units in the rest of layers. Totally it has less complexity in terms of number of parameters compared with the first network."
   ]
  },
  {
   "cell_type": "code",
   "execution_count": 12,
   "metadata": {},
   "outputs": [
    {
     "name": "stdout",
     "output_type": "stream",
     "text": [
      "Number of hidden units:  [500, 100, 50, 10]\n",
      "Epoch 1: train loss=3.293, train acc=0.431\n",
      "\n",
      "Epoch 2: train loss=2.120, train acc=0.572\n",
      "\n",
      "Epoch 3: train loss=1.611, train acc=0.643\n",
      "\n",
      "Epoch 4: train loss=1.313, train acc=0.688\n",
      "\n",
      "Epoch 5: train loss=1.125, train acc=0.721\n",
      "\n",
      "Epoch 6: train loss=0.993, train acc=0.745\n",
      "\n",
      "Epoch 7: train loss=0.898, train acc=0.765\n",
      "\n",
      "Epoch 8: train loss=0.825, train acc=0.781\n",
      "\n",
      "Epoch 9: train loss=0.765, train acc=0.793\n",
      "\n",
      "Epoch 10: train loss=0.717, train acc=0.804\n",
      "\n",
      "Epoch 11: train loss=0.676, train acc=0.814\n",
      "\n",
      "Epoch 12: train loss=0.642, train acc=0.823\n",
      "\n",
      "Epoch 13: train loss=0.611, train acc=0.830\n",
      "\n",
      "Epoch 14: train loss=0.585, train acc=0.837\n",
      "\n",
      "Epoch 15: train loss=0.562, train acc=0.843\n",
      "\n",
      "Test: average loss=1.209, average accuracy=0.707\n",
      "-------\n",
      "Number of hidden units:  [100, 50, 10]\n",
      "Epoch 1: train loss=3.170, train acc=0.400\n",
      "\n",
      "Epoch 2: train loss=2.065, train acc=0.546\n",
      "\n",
      "Epoch 3: train loss=1.611, train acc=0.618\n",
      "\n",
      "Epoch 4: train loss=1.357, train acc=0.663\n",
      "\n",
      "Epoch 5: train loss=1.189, train acc=0.694\n",
      "\n",
      "Epoch 6: train loss=1.070, train acc=0.718\n",
      "\n",
      "Epoch 7: train loss=0.980, train acc=0.735\n",
      "\n",
      "Epoch 8: train loss=0.908, train acc=0.749\n",
      "\n",
      "Epoch 9: train loss=0.850, train acc=0.762\n",
      "\n",
      "Epoch 10: train loss=0.801, train acc=0.773\n",
      "\n",
      "Epoch 11: train loss=0.759, train acc=0.782\n",
      "\n",
      "Epoch 12: train loss=0.724, train acc=0.789\n",
      "\n",
      "Epoch 13: train loss=0.693, train acc=0.797\n",
      "\n",
      "Epoch 14: train loss=0.665, train acc=0.804\n",
      "\n",
      "Epoch 15: train loss=0.640, train acc=0.810\n",
      "\n",
      "Test: average loss=0.776, average accuracy=0.782\n",
      "-------\n"
     ]
    }
   ],
   "source": [
    "FLAGS.num_epoch = 15\n",
    "FLAGS.learning_rate = 0.01\n",
    "num_hidden_list = [[500, 100, 50, 10], [100, 50, 10]]\n",
    "stddev = 1\n",
    "for num_hidden in num_hidden_list:\n",
    "    print('Number of hidden units: ', num_hidden)\n",
    "    model = Dense(num_hidden=num_hidden,\n",
    "                  weight_initializer=normal_initializer,\n",
    "                  bias_initializer=zero_initializer,\n",
    "                  act=tf.nn.tanh,\n",
    "                  logging=True,\n",
    "                  stddev=stddev)\n",
    "    with tf.Session() as sess:\n",
    "        log_file = str(model.act.__name__) + \"_\" + str(model.num_hidden)\n",
    "        train(x_train, y_train, x_validation, y_validation, x_test, y_test, model, sess, log_file)\n",
    "    tf.reset_default_graph()"
   ]
  },
  {
   "cell_type": "markdown",
   "metadata": {},
   "source": [
    "---\n",
    "# Question 4\n",
    "By using tensorboard visualiztions justify the different outcomes of training the above two neural network architectures.\n",
    "\n",
    "---"
   ]
  },
  {
   "cell_type": "markdown",
   "metadata": {},
   "source": [
    "## Regularization\n",
    "\n",
    "Another important point to consider is applying regularization and being aware of its impact on training and generalization. Its most important rule is to prevent our learning process from overfitting (you may have encountered this phenomenon above!)\n",
    "\n",
    "In first experiment L2 regularization technique is not applied. However, in rest of them, it is used for penalizing two sets of weights:\n",
    "\n",
    "1. Weights between input and first hidden layer.\n",
    "2. Weights between first and second hidden layer."
   ]
  },
  {
   "cell_type": "code",
   "execution_count": 13,
   "metadata": {},
   "outputs": [
    {
     "name": "stdout",
     "output_type": "stream",
     "text": [
      "Weight decay of: 0.0\n",
      "Epoch 1: train loss=3.193, train acc=0.422\n",
      "\n",
      "Epoch 2: train loss=2.065, train acc=0.562\n",
      "\n",
      "Epoch 3: train loss=1.566, train acc=0.637\n",
      "\n",
      "Epoch 4: train loss=1.277, train acc=0.685\n",
      "\n",
      "Epoch 5: train loss=1.095, train acc=0.716\n",
      "\n",
      "Epoch 6: train loss=0.979, train acc=0.740\n",
      "\n",
      "Epoch 7: train loss=0.889, train acc=0.760\n",
      "\n",
      "Epoch 8: train loss=0.819, train acc=0.776\n",
      "\n",
      "Epoch 9: train loss=0.764, train acc=0.789\n",
      "\n",
      "Epoch 10: train loss=0.718, train acc=0.800\n",
      "\n",
      "Epoch 11: train loss=0.678, train acc=0.810\n",
      "\n",
      "Epoch 12: train loss=0.645, train acc=0.819\n",
      "\n",
      "Epoch 13: train loss=0.616, train acc=0.827\n",
      "\n",
      "Epoch 14: train loss=0.591, train acc=0.833\n",
      "\n",
      "Epoch 15: train loss=0.566, train acc=0.840\n",
      "\n",
      "Test: average loss=1.200, average accuracy=0.701\n",
      "-------\n",
      "Weight decay of: 0.0001\n",
      "Epoch 1: train loss=25.064, train acc=0.401\n",
      "\n",
      "Epoch 2: train loss=23.885, train acc=0.540\n",
      "\n",
      "Epoch 3: train loss=23.330, train acc=0.621\n",
      "\n",
      "Epoch 4: train loss=23.001, train acc=0.671\n",
      "\n",
      "Epoch 5: train loss=22.777, train acc=0.707\n",
      "\n",
      "Epoch 6: train loss=22.620, train acc=0.736\n",
      "\n",
      "Epoch 7: train loss=22.499, train acc=0.756\n",
      "\n",
      "Epoch 8: train loss=22.401, train acc=0.773\n",
      "\n",
      "Epoch 9: train loss=22.318, train acc=0.787\n",
      "\n",
      "Epoch 10: train loss=22.248, train acc=0.797\n",
      "\n",
      "Epoch 11: train loss=22.184, train acc=0.807\n",
      "\n",
      "Epoch 12: train loss=22.127, train acc=0.816\n",
      "\n",
      "Epoch 13: train loss=22.073, train acc=0.823\n",
      "\n",
      "Epoch 14: train loss=22.023, train acc=0.830\n",
      "\n",
      "Epoch 15: train loss=21.975, train acc=0.836\n",
      "\n",
      "Test: average loss=22.598, average accuracy=0.696\n",
      "-------\n",
      "Weight decay of: 0.001\n",
      "Epoch 1: train loss=218.664, train acc=0.398\n",
      "\n",
      "Epoch 2: train loss=214.978, train acc=0.559\n",
      "\n",
      "Epoch 3: train loss=212.072, train acc=0.639\n",
      "\n",
      "Epoch 4: train loss=209.411, train acc=0.693\n",
      "\n",
      "Epoch 5: train loss=206.902, train acc=0.725\n",
      "\n",
      "Epoch 6: train loss=204.482, train acc=0.751\n",
      "\n",
      "Epoch 7: train loss=202.124, train acc=0.770\n",
      "\n",
      "Epoch 8: train loss=199.813, train acc=0.785\n",
      "\n",
      "Epoch 9: train loss=197.539, train acc=0.799\n",
      "\n",
      "Epoch 10: train loss=195.300, train acc=0.810\n",
      "\n",
      "Epoch 11: train loss=193.093, train acc=0.820\n",
      "\n",
      "Epoch 12: train loss=190.917, train acc=0.829\n",
      "\n",
      "Epoch 13: train loss=188.768, train acc=0.837\n",
      "\n",
      "Epoch 14: train loss=186.647, train acc=0.843\n",
      "\n",
      "Epoch 15: train loss=184.553, train acc=0.850\n",
      "\n",
      "Test: average loss=185.169, average accuracy=0.717\n",
      "-------\n",
      "Weight decay of: 0.01\n",
      "Epoch 1: train loss=1940.680, train acc=0.433\n",
      "\n",
      "Epoch 2: train loss=1734.223, train acc=0.585\n",
      "\n",
      "Epoch 3: train loss=1550.174, train acc=0.665\n",
      "\n",
      "Epoch 4: train loss=1385.800, train acc=0.713\n",
      "\n",
      "Epoch 5: train loss=1238.917, train acc=0.747\n",
      "\n",
      "Epoch 6: train loss=1107.642, train acc=0.773\n",
      "\n",
      "Epoch 7: train loss=990.294, train acc=0.792\n",
      "\n",
      "Epoch 8: train loss=885.396, train acc=0.809\n",
      "\n",
      "Epoch 9: train loss=791.620, train acc=0.821\n",
      "\n",
      "Epoch 10: train loss=707.787, train acc=0.831\n",
      "\n",
      "Epoch 11: train loss=632.838, train acc=0.840\n",
      "\n",
      "Epoch 12: train loss=565.834, train acc=0.849\n",
      "\n",
      "Epoch 13: train loss=505.928, train acc=0.857\n",
      "\n",
      "Epoch 14: train loss=452.368, train acc=0.865\n",
      "\n",
      "Epoch 15: train loss=404.478, train acc=0.873\n",
      "\n",
      "Test: average loss=404.883, average accuracy=0.790\n",
      "-------\n",
      "Weight decay of: 0.1\n",
      "Epoch 1: train loss=7083.417, train acc=0.513\n",
      "\n",
      "Epoch 2: train loss=2310.212, train acc=0.738\n",
      "\n",
      "Epoch 3: train loss=753.547, train acc=0.856\n",
      "\n",
      "Epoch 4: train loss=245.844, train acc=0.923\n",
      "\n",
      "Epoch 5: train loss=80.295, train acc=0.950\n",
      "\n",
      "Epoch 6: train loss=26.300, train acc=0.963\n",
      "\n",
      "Epoch 7: train loss=8.673, train acc=0.973\n",
      "\n",
      "Epoch 8: train loss=2.953, train acc=0.974\n",
      "\n",
      "Epoch 9: train loss=1.110, train acc=0.972\n",
      "\n",
      "Epoch 10: train loss=0.512, train acc=0.970\n",
      "\n",
      "Epoch 11: train loss=0.315, train acc=0.970\n",
      "\n",
      "Epoch 12: train loss=0.248, train acc=0.969\n",
      "\n",
      "Epoch 13: train loss=0.225, train acc=0.970\n",
      "\n",
      "Epoch 14: train loss=0.217, train acc=0.970\n",
      "\n",
      "Epoch 15: train loss=0.213, train acc=0.970\n",
      "\n",
      "Test: average loss=0.230, average accuracy=0.962\n",
      "-------\n"
     ]
    }
   ],
   "source": [
    "weight_decay_list = [0., 1e-4, 1e-3, 1e-2, 1e-1]\n",
    "for weight_decay in weight_decay_list:\n",
    "    print('Weight decay of: {}'.format(weight_decay))\n",
    "    FLAGS.weight_decay = weight_decay \n",
    "    model = Dense(num_hidden=[500, 100, 50, 10],\n",
    "                  weight_initializer=normal_initializer,\n",
    "                  bias_initializer=zero_initializer,\n",
    "                  act=tf.nn.tanh,\n",
    "                  logging=True,\n",
    "                  stddev=1)\n",
    "    with tf.Session() as sess:\n",
    "        log_file = str(model.act.__name__) + \"_\" + str(FLAGS.weight_decay)\n",
    "        train(x_train, y_train, x_validation, y_validation, x_test, y_test, model, sess, log_file)\n",
    "    tf.reset_default_graph()"
   ]
  },
  {
   "cell_type": "markdown",
   "metadata": {},
   "source": [
    "---\n",
    "# Question 5\n",
    "By using visualiztion of learning curves (specially loss curve) try to explain the impact that L2 regularization had on training process.\n",
    "\n",
    "---"
   ]
  },
  {
   "cell_type": "markdown",
   "metadata": {},
   "source": [
    "### **Note**: \n",
    "So far, some questions were placed between cells of codes and descriptions. \n",
    "\n",
    "In addition to **completing the code files**, please send a **report** including your answer to these questions as well. Do not forget to put the diagrams and visualizations needed in each part."
   ]
  }
 ],
 "metadata": {
  "kernelspec": {
   "display_name": "Python 3",
   "language": "python",
   "name": "python3"
  },
  "language_info": {
   "codemirror_mode": {
    "name": "ipython",
    "version": 3
   },
   "file_extension": ".py",
   "mimetype": "text/x-python",
   "name": "python",
   "nbconvert_exporter": "python",
   "pygments_lexer": "ipython3",
   "version": "3.6.5"
  }
 },
 "nbformat": 4,
 "nbformat_minor": 2
}
